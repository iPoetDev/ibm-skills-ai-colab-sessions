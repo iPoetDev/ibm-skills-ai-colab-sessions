{
 "cells": [
  {
   "cell_type": "markdown",
   "id": "ead4329e",
   "metadata": {
    "id": "e99a30aa"
   },
   "source": [
    "![SkillupLogo.jpg](data:image/jpeg;base64,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)"
   ]
  },
  {
   "cell_type": "markdown",
   "id": "c25c7041",
   "metadata": {
    "id": "Fx7STfuBU-4z"
   },
   "source": [
    "# **Credit Card Fraud Detection**"
   ]
  },
  {
   "cell_type": "markdown",
   "id": "daaffd97",
   "metadata": {
    "id": "52cb14e2"
   },
   "source": [
    "Dataset Link: https://www.kaggle.com/datasets/mlg-ulb/creditcardfraud"
   ]
  },
  {
   "cell_type": "markdown",
   "id": "6795d0c1",
   "metadata": {
    "id": "ee2177d2"
   },
   "source": [
    "### Importing Necessary Libraries"
   ]
  },
  {
   "cell_type": "code",
   "execution_count": 1,
   "id": "2eb4d791",
   "metadata": {
    "id": "pEN_Q-SyVNTV"
   },
   "outputs": [],
   "source": [
    "# Importing Required Libraries\n",
    "import pandas as pd\n",
    "import numpy as np\n",
    "import matplotlib.pyplot as plt\n",
    "import seaborn as sns\n",
    "\n",
    "import warnings\n",
    "warnings.filterwarnings(\"ignore\")"
   ]
  },
  {
   "cell_type": "markdown",
   "id": "c4134d12",
   "metadata": {
    "id": "be3693c6"
   },
   "source": [
    "### Import and read dataset"
   ]
  },
  {
   "cell_type": "code",
   "execution_count": 2,
   "id": "29b35f75",
   "metadata": {
    "id": "7SsN9nl3WgUe"
   },
   "outputs": [],
   "source": [
    "# Read Data into a Dataframe\n"
   ]
  },
  {
   "cell_type": "markdown",
   "id": "f4bd8703",
   "metadata": {
    "id": "0a241952"
   },
   "source": [
    "\n",
    "<details><summary><b>Click Here for the Hint</b></summary>\n",
    "\n",
    "\n",
    "\n",
    "```\n",
    "Start by importing the pandas library: import pandas as pd\n",
    "    \n",
    "Use the read_csv() function to load the CSV file into a pandas DataFrame. Specify the file path in the parentheses, for example: pd.read_csv(\"file_path.csv\")\n",
    "    \n",
    "Assign the resulting DataFrame to a variable name, for example: data = pd.read_csv(\"file_path.csv\")\n",
    "    \n",
    "Use the head() method on the DataFrame to display the first 10 rows, for example: data.head(10)\n",
    "    \n",
    "Make sure to replace \"file_path.csv\" with the actual file path and name of your CSV file.\n",
    "\n",
    "```\n",
    "\n",
    "\n",
    "\n",
    "</details>"
   ]
  },
  {
   "cell_type": "markdown",
   "id": "3d4fe1a9",
   "metadata": {
    "id": "029752ea"
   },
   "source": [
    "### Data Cleaning"
   ]
  },
  {
   "cell_type": "markdown",
   "id": "fe00f5bd",
   "metadata": {
    "id": "cb2a68ca"
   },
   "source": [
    "a. Missing Value"
   ]
  },
  {
   "cell_type": "code",
   "execution_count": null,
   "id": "efd10e6f",
   "metadata": {
    "colab": {
     "base_uri": "https://localhost:8080/"
    },
    "id": "aH4heMPnYzfa",
    "outputId": "d9becb42-71aa-43cd-ced8-66c69b470692"
   },
   "outputs": [],
   "source": [
    "#Write Your Code Here\n"
   ]
  },
  {
   "cell_type": "markdown",
   "id": "f377dddf",
   "metadata": {
    "id": "zF8n9WvFalfD"
   },
   "source": [
    "<details><summary><b>Click Here for the Hint</b></summary>\n",
    "\n",
    "\n",
    "\n",
    "```\n",
    "\n",
    "Use the DataFrame variable name followed by the isnull() method to create a Boolean DataFrame where True indicates a null value and False indicates a non-null value.\n",
    "\n",
    "Use the sum() method on the Boolean DataFrame to count the number of True values (i.e., the number of null values) in each column.\n",
    "\n",
    "Putting these together, the code would look like this: data.isnull().sum()\n",
    "\n",
    "\n",
    "This code assumes that the pandas DataFrame is named data. If your DataFrame has a different name, replace data with the appropriate variable name.\n",
    "\n",
    "```\n",
    "\n",
    "\n",
    "\n",
    "</details>"
   ]
  },
  {
   "cell_type": "markdown",
   "id": "4516036d",
   "metadata": {
    "id": "6295d53f"
   },
   "source": [
    "b. Duplicate data"
   ]
  },
  {
   "cell_type": "code",
   "execution_count": null,
   "id": "da501911",
   "metadata": {},
   "outputs": [],
   "source": [
    "#Write Your Code Here\n"
   ]
  },
  {
   "cell_type": "markdown",
   "id": "3b028638",
   "metadata": {
    "id": "fx3Hry8yad_X"
   },
   "source": [
    "<details><summary><b>Click Here for the Hint</b></summary>\n",
    "\n",
    "\n",
    "\n",
    "```\n",
    "Use the DataFrame variable name followed by the duplicated() method to create a Boolean DataFrame where True indicates a duplicate row and False indicates a non-duplicate row.\n",
    "\n",
    "Use the sum() method on the Boolean DataFrame to count the number of True values (i.e., the number of duplicate rows).\n",
    "\n",
    "Putting these together, the code would look like this: data.duplicated().sum()\n",
    "\n",
    "This code assumes that the pandas DataFrame is named data. If your DataFrame has a different name, replace data with the appropriate variable name.\n",
    "\n",
    "```\n",
    "\n",
    "\n",
    "\n",
    "</details>"
   ]
  },
  {
   "cell_type": "markdown",
   "id": "b5119181",
   "metadata": {
    "id": "61a15123"
   },
   "source": [
    "### Data Analysis"
   ]
  },
  {
   "cell_type": "markdown",
   "id": "5f9d6331",
   "metadata": {
    "id": "ymzeVlYsdzK9"
   },
   "source": [
    "Question 1: What is the percentage of fraud transactions in the dataset?\n",
    "\n"
   ]
  },
  {
   "cell_type": "code",
   "execution_count": 1,
   "id": "fc08822c",
   "metadata": {
    "colab": {
     "base_uri": "https://localhost:8080/"
    },
    "id": "VFIAOd2rdv4I",
    "outputId": "a245cd77-9ccb-4c39-8eca-4eae42115cc9"
   },
   "outputs": [],
   "source": [
    "# Calculate the percentage of fraud transactions\n",
    "\n",
    "# Print the percentage of fraud transactions\n"
   ]
  },
  {
   "cell_type": "markdown",
   "id": "7446af09",
   "metadata": {
    "id": "R54M1tpQdw1q"
   },
   "source": [
    "<details>\n",
    "  <summary><b>Click Here for the Hint</b></summary>\n",
    "\n",
    "    To calculate the percentage of fraud transactions, you need to count the number of fraud transactions (where 'Class' is 1) and divide it by the total number of transactions in the dataset. Then, multiply the result by 100 to get the percentage.\n",
    "</details>"
   ]
  },
  {
   "cell_type": "markdown",
   "id": "906ae755",
   "metadata": {
    "id": "HkKxW6Z-dyVZ"
   },
   "source": [
    "Question 2: What is the average transaction amount for fraud transactions?\n",
    "\n"
   ]
  },
  {
   "cell_type": "code",
   "execution_count": 2,
   "id": "38993dc8",
   "metadata": {
    "colab": {
     "base_uri": "https://localhost:8080/"
    },
    "id": "29tD3aqxdNyF",
    "outputId": "a194a143-d821-4fdf-c512-487680012902"
   },
   "outputs": [],
   "source": [
    "# Calculate the average transaction amount for fraud transactions\n",
    "\n",
    "\n",
    "# Print the average transaction amount for fraud transactions\n"
   ]
  },
  {
   "cell_type": "markdown",
   "id": "28d63dff",
   "metadata": {
    "id": "QsDb5qoAdxvo"
   },
   "source": [
    "<details>\n",
    "  <summary><b>Click Here for the Hint</b></summary>\n",
    "\n",
    "    To calculate the average transaction amount for fraud transactions, you need to filter the dataset to get only the fraud transactions (Class = 1) and then calculate the mean of the 'Amount' column for that filtered data.\n",
    "</details>"
   ]
  },
  {
   "cell_type": "markdown",
   "id": "4c947f70",
   "metadata": {
    "id": "6efda2ac"
   },
   "source": [
    "### Data Visualization"
   ]
  },
  {
   "cell_type": "markdown",
   "id": "02753134",
   "metadata": {
    "id": "UVvhV7XTbAfs"
   },
   "source": [
    "\n",
    "Question 1: How many fraud transactions are there compared to non-fraud transactions? (Using a bar plot)"
   ]
  },
  {
   "cell_type": "code",
   "execution_count": 1,
   "id": "65747ac7",
   "metadata": {
    "colab": {
     "base_uri": "https://localhost:8080/",
     "height": 472
    },
    "id": "BPPpMLz-bBsK",
    "outputId": "da306b68-094f-4513-ef03-9cdbbf1358b2"
   },
   "outputs": [],
   "source": [
    "# Count the number of fraud and non-fraud transactions\n",
    "\n",
    "# Plot the distribution of fraud transactions compared to non-fraud transactions\n"
   ]
  },
  {
   "cell_type": "markdown",
   "id": "bdd4df45",
   "metadata": {
    "id": "j_-rdZhofHyI"
   },
   "source": [
    "<details>\n",
    "  <summary><b>Click Here for the Hint</b></summary>\n",
    "\n",
    "    To create a bar plot showing the number of fraud and non-fraud transactions, you need to count the occurrences of each class (fraud and non-fraud) in the 'Class' column and then use a bar plot to represent the counts.\n",
    "</details>"
   ]
  },
  {
   "cell_type": "markdown",
   "id": "6a282afc",
   "metadata": {
    "id": "mQ_FeNOpbg-U"
   },
   "source": [
    "Question 2: What is the distribution of transaction amounts for fraud transactions? (Using a histogram)\n"
   ]
  },
  {
   "cell_type": "code",
   "execution_count": 2,
   "id": "97a8b8b2",
   "metadata": {
    "colab": {
     "base_uri": "https://localhost:8080/",
     "height": 472
    },
    "id": "HEnYN0fxbh_Z",
    "outputId": "eab7e8b4-35c8-492f-f02b-58b6d83deab4"
   },
   "outputs": [],
   "source": [
    "# Separate the data for fraud transactions\n",
    "\n",
    "# Plot the distribution of transaction amounts for fraud transactions\n"
   ]
  },
  {
   "cell_type": "markdown",
   "id": "74ede115",
   "metadata": {
    "id": "izP1Y4TkfPW4"
   },
   "source": [
    "<details>\n",
    "  <summary><b>Click Here for the Hint</b></summary>\n",
    "\n",
    "    To visualize the distribution of transaction amounts for fraud transactions, you need to filter the dataset to get only the fraud transactions (Class = 1) and then use a histogram to represent the distribution of 'Amount' values in that filtered data.\n",
    "</details>"
   ]
  },
  {
   "cell_type": "markdown",
   "id": "8e330fde",
   "metadata": {},
   "source": [
    "### Model Development & Evaluation"
   ]
  },
  {
   "cell_type": "markdown",
   "id": "3199958a",
   "metadata": {},
   "source": [
    "### Splitting Dataset"
   ]
  },
  {
   "cell_type": "code",
   "execution_count": null,
   "id": "5c16e87f",
   "metadata": {},
   "outputs": [],
   "source": [
    "# Split training and testing data\n"
   ]
  },
  {
   "cell_type": "markdown",
   "id": "3f05b4ea",
   "metadata": {},
   "source": [
    "<details><summary><b>Click Here for the Hint</b></summary>\n",
    "\n",
    "\n",
    "\n",
    "```\n",
    "Once you have this dataset, you can use the scikit-learn library to split the data into training and testing sets using the train_test_split() function.\n",
    "\n",
    "First, you can create a pandas DataFrame X with all columns except the 'Class' column. You can create a pandas Series y with only the 'Class' column.\n",
    "\n",
    "Next, you can use the train_test_split() function to split the data into training and testing sets. You can pass in the X and y variables as arguments, along with the test_size argument to specify the proportion of the dataset that should be allocated to the testing set (in this case, 20%). The random_state argument can also be set to a fixed value so that the same random split is produced every time the code is run.\n",
    "\n",
    "The train_test_split() function returns four variables: X_train, X_test, y_train, and y_test. X_train and y_train represent the training set, while X_test and y_test represent the testing set. You can use these variables to train and evaluate your machine learning models.\n",
    "\n",
    "Note that it's important to split the data into training and testing sets to avoid overfitting and to evaluate the performance of your models on unseen data.\n",
    "\n",
    "```\n",
    "\n",
    "\n",
    "\n",
    "</details>"
   ]
  },
  {
   "cell_type": "markdown",
   "id": "8721f8dc",
   "metadata": {},
   "source": [
    "### Modeling & Evaluation"
   ]
  },
  {
   "cell_type": "code",
   "execution_count": null,
   "id": "496d2812",
   "metadata": {},
   "outputs": [],
   "source": [
    "#Write Your Code Here\n"
   ]
  },
  {
   "cell_type": "markdown",
   "id": "97a9d4ce",
   "metadata": {},
   "source": [
    "<details><summary><b>Click Here for the Hint</b></summary>\n",
    "\n",
    "\n",
    "\n",
    "```\n",
    "You need to have imported the necessary libraries and classes, such as the RandomForestClassifier class from scikit-learn and the classification_report() and accuracy_score() functions from the sklearn.metrics module.\n",
    "\n",
    "Once you have done this, you can create an instance of the RandomForestClassifier class, setting the max_depth hyperparameter to 150 and the random_state hyperparameter to 42. You can then train the model on the training data using the .fit() method.\n",
    "\n",
    "Next, you can use the trained model to make predictions on the testing data using the .predict() method. You can store these predictions in a variable called y_pred.\n",
    "\n",
    "Then, you can use the classification_report() function to print out a summary of the model's performance on the testing data. This will include metrics such as precision, recall, and F1 score for each class (in this case, whether a credit card transaction is fraud or not). You can also use the accuracy_score() function to calculate and print the overall accuracy of the model on the testing data.\n",
    "\n",
    "Finally, you can print out the accuracy of the model in percentage form, using the *100 operator to multiply the accuracy score by 100.\n",
    "\n",
    "```\n",
    "\n",
    "\n",
    "\n",
    "</details>"
   ]
  }
 ],
 "metadata": {
  "kernelspec": {
   "display_name": "Python 3 (ipykernel)",
   "language": "python",
   "name": "python3"
  },
  "language_info": {
   "codemirror_mode": {
    "name": "ipython",
    "version": 3
   },
   "file_extension": ".py",
   "mimetype": "text/x-python",
   "name": "python",
   "nbconvert_exporter": "python",
   "pygments_lexer": "ipython3",
   "version": "3.11.7"
  }
 },
 "nbformat": 4,
 "nbformat_minor": 5
}
