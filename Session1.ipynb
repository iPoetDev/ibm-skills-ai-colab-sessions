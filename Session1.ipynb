{
  "nbformat": 4,
  "nbformat_minor": 0,
  "metadata": {
    "colab": {
      "provenance": [],
      "collapsed_sections": [
        "C7KXJgePxJzc"
      ],
      "include_colab_link": true
    },
    "kernelspec": {
      "name": "python3",
      "display_name": "Python 3"
    },
    "language_info": {
      "name": "python"
    }
  },
  "cells": [
    {
      "cell_type": "markdown",
      "metadata": {
        "id": "view-in-github",
        "colab_type": "text"
      },
      "source": [
        "<a href=\"https://colab.research.google.com/github/iPoetDev/ibm-skills-ai-colab-sessions/blob/main/Session1.ipynb\" target=\"_parent\"><img src=\"https://colab.research.google.com/assets/colab-badge.svg\" alt=\"Open In Colab\"/></a>"
      ]
    },
    {
      "cell_type": "markdown",
      "source": [
        "### IBM SkillUp Program in Artificial Intelligence: Session 1\n",
        "\n",
        "**Python Basics**\n",
        "\n",
        "Python Coding Resources:\n",
        "1. IBM SkillsBuild [Python for Programmers](https://skills.yourlearning.ibm.com/activity/URL-806B8D9B07FD)\n",
        "2. Code with Mosh [Complete Python Mastery ](https://codewithmosh.com/p/python-programming-course-beginners)\n",
        "3. Udemy or Coursera python courses\n",
        "4. Practice Katas, for example, [Code Wars](https://www.codewars.com/)"
      ],
      "metadata": {
        "id": "v9HT0p5rSKBs"
      }
    },
    {
      "cell_type": "markdown",
      "source": [
        "## 1. Lists, Tuples, and Dictionaries\n"
      ],
      "metadata": {
        "id": "8tg5R-kEUAL5"
      }
    },
    {
      "cell_type": "markdown",
      "source": [
        "### List\n",
        "A list is a collection which is **ordered** and **changeable**. Allows duplicate members.\n"
      ],
      "metadata": {
        "id": "uwpZSiRZWzML"
      }
    },
    {
      "cell_type": "code",
      "source": [],
      "metadata": {
        "id": "DHJyay16WjvA"
      },
      "execution_count": null,
      "outputs": []
    },
    {
      "cell_type": "markdown",
      "source": [],
      "metadata": {
        "id": "9nQ0LtqGW2Va"
      }
    },
    {
      "cell_type": "code",
      "execution_count": null,
      "metadata": {
        "id": "jjIgJyHjXJy2"
      },
      "outputs": [],
      "source": [
        "# Creating a list\n",
        "fruits = [\"apple\", \"banana\", \"cherry\"]\n",
        "print(type(fruits))\n",
        "print(\"List of fruits:\", fruits)"
      ]
    },
    {
      "cell_type": "code",
      "source": [
        "\n",
        "# Accessing elements\n",
        "print(\"First fruit:\", fruits[0])"
      ],
      "metadata": {
        "id": "-s5WiT4zVJfn"
      },
      "execution_count": null,
      "outputs": []
    },
    {
      "cell_type": "code",
      "source": [
        "# Modifying elements\n",
        "fruits[1] = \"blueberry\"\n",
        "print(\"Modified list of fruits:\", fruits)"
      ],
      "metadata": {
        "id": "9iQWG-98VLuI"
      },
      "execution_count": null,
      "outputs": []
    },
    {
      "cell_type": "code",
      "source": [
        "\n",
        "# Adding elements\n",
        "fruits.append(\"orange\")\n",
        "print(\"List after adding a fruit:\", fruits)"
      ],
      "metadata": {
        "id": "OjJDsmbyVNnD"
      },
      "execution_count": null,
      "outputs": []
    },
    {
      "cell_type": "markdown",
      "source": [
        "### Tuples\n",
        "A tuple is a collection which is **ordered** and **unchangeable**. Allows duplicate members."
      ],
      "metadata": {
        "id": "jJ21T6fpWSbH"
      }
    },
    {
      "cell_type": "code",
      "source": [
        "# Creating a tuple\n",
        "fruits_tuple = (\"apple\", \"banana\", \"cherry\")\n",
        "print(type(fruits_tuple))\n",
        "print(\"\\nTuple of fruits:\", fruits_tuple)\n"
      ],
      "metadata": {
        "id": "3dntERsmUchY"
      },
      "execution_count": null,
      "outputs": []
    },
    {
      "cell_type": "code",
      "source": [
        "# Accessing elements\n",
        "print(\"First fruit in tuple:\", fruits_tuple[0])\n"
      ],
      "metadata": {
        "id": "UJyfdyPMXRjZ"
      },
      "execution_count": null,
      "outputs": []
    },
    {
      "cell_type": "code",
      "source": [
        "# Uncomment the next line and run it to see if you can update a tuple\n",
        "# Tuples are immutable, so we cannot modify them directly this next line should give us an error\n",
        "#fruits_tuple[1] = \"blueberry\""
      ],
      "metadata": {
        "id": "m2ALAOwMX5As"
      },
      "execution_count": null,
      "outputs": []
    },
    {
      "cell_type": "markdown",
      "source": [
        "### Dictionaries\n",
        "A dictionary is a collection which is **unordered**, **changeable** and **indexed**. No duplicate members."
      ],
      "metadata": {
        "id": "1H3NOHIIYU0v"
      }
    },
    {
      "cell_type": "code",
      "source": [
        "# Creating a dictionary\n",
        "fruit_colors = {\n",
        "    \"apple\": \"red\",\n",
        "    \"banana\": \"yellow\",\n",
        "    \"cherry\": \"red\"\n",
        "}\n",
        "print(type(fruit_colors))\n",
        "print(\"\\nDictionary of fruit colors:\", fruit_colors)"
      ],
      "metadata": {
        "id": "l9rh7OBbYfXN"
      },
      "execution_count": null,
      "outputs": []
    },
    {
      "cell_type": "code",
      "source": [
        "# Accessing elements\n",
        "print(\"Color of apple:\", fruit_colors[\"apple\"])"
      ],
      "metadata": {
        "id": "AJVso7jhYxRQ"
      },
      "execution_count": null,
      "outputs": []
    },
    {
      "cell_type": "code",
      "source": [
        "# Modifying elements\n",
        "fruit_colors[\"banana\"] = \"green\"\n",
        "print(\"Modified dictionary of fruit colors:\", fruit_colors)"
      ],
      "metadata": {
        "id": "ltxgamdNYz9k"
      },
      "execution_count": null,
      "outputs": []
    },
    {
      "cell_type": "code",
      "source": [
        "# Adding elements\n",
        "fruit_colors[\"orange\"] = \"orange\"\n",
        "print(\"Dictionary after adding an element:\", fruit_colors)"
      ],
      "metadata": {
        "id": "hBLYCAkCY41b"
      },
      "execution_count": null,
      "outputs": []
    },
    {
      "cell_type": "markdown",
      "source": [
        "## 2. Basic Python Scripts"
      ],
      "metadata": {
        "id": "UchJWh61ZLQD"
      }
    },
    {
      "cell_type": "markdown",
      "source": [
        "### Arithmetic Operations"
      ],
      "metadata": {
        "id": "5uMBY2pnZPap"
      }
    },
    {
      "cell_type": "code",
      "source": [
        "a = 10\n",
        "b = 5\n",
        "print(\"\\nArithmetic Operations:\")\n",
        "print(\"Addition:\", a + b)\n",
        "print(\"Subtraction:\", a - b)\n",
        "print(\"Multiplication:\", a * b)\n",
        "print(\"Division:\", a / b)"
      ],
      "metadata": {
        "id": "gTUSVrVkZTy4"
      },
      "execution_count": null,
      "outputs": []
    },
    {
      "cell_type": "markdown",
      "source": [
        "\n",
        "### String Manipulation"
      ],
      "metadata": {
        "id": "sKVGgEM_ZZfV"
      }
    },
    {
      "cell_type": "code",
      "source": [
        "name = \"Python\"\n",
        "print(\"\\nString Manipulation:\")\n",
        "print(\"Uppercase:\", name.upper())\n",
        "print(\"Lowercase:\", name.lower())\n",
        "print(\"Concatenation:\", name + \" is fun!\")"
      ],
      "metadata": {
        "id": "54wm0mUHZfeM"
      },
      "execution_count": null,
      "outputs": []
    },
    {
      "cell_type": "markdown",
      "source": [
        "### Variable Assignments"
      ],
      "metadata": {
        "id": "10AX5Yd_Zir7"
      }
    },
    {
      "cell_type": "code",
      "source": [
        "x = 15\n",
        "y = \"Hello\"\n",
        "print(\"\\nVariable Assignments:\")\n",
        "print(\"Value of x:\", x)\n",
        "print(\"Value of y:\", y)"
      ],
      "metadata": {
        "id": "qYFivwRHZpMI"
      },
      "execution_count": null,
      "outputs": []
    },
    {
      "cell_type": "markdown",
      "source": [
        "## 3. Flow Control Structures"
      ],
      "metadata": {
        "id": "YelxxMm-Zs20"
      }
    },
    {
      "cell_type": "markdown",
      "source": [
        "### Loops"
      ],
      "metadata": {
        "id": "R6V69IW8ZxF6"
      }
    },
    {
      "cell_type": "code",
      "source": [
        "# For loop\n",
        "print(\"\\nFor Loop:\")\n",
        "for i in range(5):\n",
        "    print(i)"
      ],
      "metadata": {
        "id": "k21bIJifZ1vk"
      },
      "execution_count": null,
      "outputs": []
    },
    {
      "cell_type": "code",
      "source": [
        "# While loop\n",
        "print(\"\\nWhile Loop:\")\n",
        "count = 0\n",
        "while count < 5:\n",
        "    print(count)\n",
        "    count += 1"
      ],
      "metadata": {
        "id": "a_U2evGIZ5k1"
      },
      "execution_count": null,
      "outputs": []
    },
    {
      "cell_type": "markdown",
      "source": [
        "### Conditional Statements"
      ],
      "metadata": {
        "id": "qTc532cuZ81o"
      }
    },
    {
      "cell_type": "code",
      "source": [
        "print(\"\\nConditional Statements:\")\n",
        "num = 10\n",
        "if num > 0:\n",
        "    print(\"Number is positive\")\n",
        "elif num == 0:\n",
        "    print(\"Number is zero\")\n",
        "else:\n",
        "    print(\"Number is negative\")"
      ],
      "metadata": {
        "id": "bMLZ_JQIaFf1"
      },
      "execution_count": null,
      "outputs": []
    },
    {
      "cell_type": "markdown",
      "source": [
        "## 4. Handling Errors"
      ],
      "metadata": {
        "id": "fkHz-drGaKE8"
      }
    },
    {
      "cell_type": "markdown",
      "source": [
        "### Try-Except Blocks"
      ],
      "metadata": {
        "id": "-uDOQm4IaZvJ"
      }
    },
    {
      "cell_type": "code",
      "source": [
        "print(\"\\nHandling Errors:\")\n",
        "try:\n",
        "    result = 10 / 0\n",
        "    print(result)\n",
        "except ZeroDivisionError:\n",
        "    print(\"Cannot divide by zero\")"
      ],
      "metadata": {
        "id": "U-LfaeohaTn4"
      },
      "execution_count": null,
      "outputs": []
    },
    {
      "cell_type": "markdown",
      "source": [
        "## 5. Functions"
      ],
      "metadata": {
        "id": "HsXn9Jt7ae8I"
      }
    },
    {
      "cell_type": "markdown",
      "source": [
        "### Defining and Using Functions"
      ],
      "metadata": {
        "id": "I7cgNlNmajEW"
      }
    },
    {
      "cell_type": "code",
      "source": [
        "print(\"\\nFunctions:\")\n",
        "\n",
        "def greet(name):\n",
        "    return \"Hello, \" + name\n",
        "\n",
        "print(greet(\"World\"))"
      ],
      "metadata": {
        "id": "qIVgyz5KatvD"
      },
      "execution_count": null,
      "outputs": []
    },
    {
      "cell_type": "code",
      "source": [
        "# Interactive Exercise\n",
        "# Now it's your turn! Try creating a function that calculates the area of a rectangle given its width and height.\n",
        "\n",
        "def calculate_area(width, height):\n",
        "    return width * height\n",
        "\n",
        "# Test the function\n",
        "print(\"\\nCalculate Area Function:\")\n",
        "print(\"Area of rectangle (5x10):\", calculate_area(5, 10))\n"
      ],
      "metadata": {
        "id": "-w2xZsHQXI42"
      },
      "execution_count": null,
      "outputs": []
    },
    {
      "cell_type": "markdown",
      "source": [
        "## Learning Kata: Calculate average grade"
      ],
      "metadata": {
        "id": "C7KXJgePxJzc"
      }
    },
    {
      "cell_type": "code",
      "source": [
        "# Function to calculate the average grade with error handling\n",
        "def calculate_average(grades):\n",
        "    try:\n",
        "        if len(grades) == 0:\n",
        "            return 0\n",
        "        return sum(grades) / len(grades)\n",
        "    except TypeError:\n",
        "        print(\"Error: Grades list must contain numeric values only.\")\n",
        "        return None\n",
        "    except Exception as e:\n",
        "        print(f\"An unexpected error occurred: {e}\")\n",
        "        return None"
      ],
      "metadata": {
        "id": "GgExJzTixRtr"
      },
      "execution_count": null,
      "outputs": []
    },
    {
      "cell_type": "code",
      "source": [
        "# Main program\n",
        "def main():\n",
        "    # Dictionary to store students and their grades\n",
        "    student_grades = {\"Alice\": 90, \"Bob\": 85, \"Charlie\": 100, \"Amad\": 100}\n",
        "\n",
        "\n",
        "    # Extract the grades from the dictionary\n",
        "    grades = list(student_grades.values())\n",
        "\n",
        "    # Calculate the average grade\n",
        "    average_grade = calculate_average(grades)\n",
        "    print(f\"The average grade is: {average_grade:.2f}\")\n"
      ],
      "metadata": {
        "id": "mmyoYsv_xcIC"
      },
      "execution_count": null,
      "outputs": []
    },
    {
      "cell_type": "code",
      "source": [
        "# Run the main program\n",
        "if __name__ == \"__main__\":\n",
        "    main()"
      ],
      "metadata": {
        "id": "ck9N4eXmHgrk"
      },
      "execution_count": null,
      "outputs": []
    }
  ]
}