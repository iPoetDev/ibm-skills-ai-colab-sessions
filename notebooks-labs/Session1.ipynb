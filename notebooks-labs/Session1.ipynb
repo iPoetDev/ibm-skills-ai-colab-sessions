{
 "cells": [
  {
   "cell_type": "markdown",
   "metadata": {
    "colab_type": "text",
    "id": "view-in-github"
   },
   "source": [
    "<a href=\"https://colab.research.google.com/github/iPoetDev/ibm-skills-ai-colab-sessions/blob/main/Session1.ipynb\" target=\"_parent\"><img src=\"https://colab.research.google.com/assets/colab-badge.svg\" alt=\"Open In Colab\"/></a>"
   ]
  },
  {
   "cell_type": "markdown",
   "metadata": {
    "id": "v9HT0p5rSKBs"
   },
   "source": [
    "### IBM SkillUp Program in Artificial Intelligence: Session 1\n",
    "\n",
    "**Python Basics**\n",
    "\n",
    "Python Coding Resources:\n",
    "1. IBM SkillsBuild [Python for Programmers](https://skills.yourlearning.ibm.com/activity/URL-806B8D9B07FD)\n",
    "2. Code with Mosh [Complete Python Mastery ](https://codewithmosh.com/p/python-programming-course-beginners)\n",
    "3. Udemy or Coursera python courses\n",
    "4. Practice Katas, for example, [Code Wars](https://www.codewars.com/)"
   ]
  },
  {
   "cell_type": "markdown",
   "metadata": {
    "id": "8tg5R-kEUAL5"
   },
   "source": [
    "## 1. Lists, Tuples, and Dictionaries\n"
   ]
  },
  {
   "cell_type": "markdown",
   "metadata": {
    "id": "uwpZSiRZWzML"
   },
   "source": [
    "### List\n",
    "A list is a collection which is **ordered** and **changeable**. Allows duplicate members.\n"
   ]
  },
  {
   "cell_type": "code",
   "execution_count": null,
   "metadata": {
    "id": "DHJyay16WjvA"
   },
   "outputs": [],
   "source": []
  },
  {
   "cell_type": "markdown",
   "metadata": {
    "id": "9nQ0LtqGW2Va"
   },
   "source": []
  },
  {
   "cell_type": "code",
   "execution_count": null,
   "metadata": {
    "id": "jjIgJyHjXJy2"
   },
   "outputs": [],
   "source": [
    "# Creating a list\n",
    "fruits = [\"apple\", \"banana\", \"cherry\"]\n",
    "print(type(fruits))\n",
    "print(\"List of fruits:\", fruits)"
   ]
  },
  {
   "cell_type": "code",
   "execution_count": null,
   "metadata": {
    "id": "-s5WiT4zVJfn"
   },
   "outputs": [],
   "source": [
    "\n",
    "# Accessing elements\n",
    "print(\"First fruit:\", fruits[0])"
   ]
  },
  {
   "cell_type": "code",
   "execution_count": null,
   "metadata": {
    "id": "9iQWG-98VLuI"
   },
   "outputs": [],
   "source": [
    "# Modifying elements\n",
    "fruits[1] = \"blueberry\"\n",
    "print(\"Modified list of fruits:\", fruits)"
   ]
  },
  {
   "cell_type": "code",
   "execution_count": null,
   "metadata": {
    "id": "OjJDsmbyVNnD"
   },
   "outputs": [],
   "source": [
    "\n",
    "# Adding elements\n",
    "fruits.append(\"orange\")\n",
    "print(\"List after adding a fruit:\", fruits)"
   ]
  },
  {
   "cell_type": "markdown",
   "metadata": {
    "id": "jJ21T6fpWSbH"
   },
   "source": [
    "### Tuples\n",
    "A tuple is a collection which is **ordered** and **unchangeable**. Allows duplicate members."
   ]
  },
  {
   "cell_type": "code",
   "execution_count": null,
   "metadata": {
    "id": "3dntERsmUchY"
   },
   "outputs": [],
   "source": [
    "# Creating a tuple\n",
    "fruits_tuple = (\"apple\", \"banana\", \"cherry\")\n",
    "print(type(fruits_tuple))\n",
    "print(\"\\nTuple of fruits:\", fruits_tuple)\n"
   ]
  },
  {
   "cell_type": "code",
   "execution_count": null,
   "metadata": {
    "id": "UJyfdyPMXRjZ"
   },
   "outputs": [],
   "source": [
    "# Accessing elements\n",
    "print(\"First fruit in tuple:\", fruits_tuple[0])\n"
   ]
  },
  {
   "cell_type": "code",
   "execution_count": null,
   "metadata": {
    "id": "m2ALAOwMX5As"
   },
   "outputs": [],
   "source": [
    "# Uncomment the next line and run it to see if you can update a tuple\n",
    "# Tuples are immutable, so we cannot modify them directly this next line should give us an error\n",
    "#fruits_tuple[1] = \"blueberry\""
   ]
  },
  {
   "cell_type": "markdown",
   "metadata": {
    "id": "1H3NOHIIYU0v"
   },
   "source": [
    "### Dictionaries\n",
    "A dictionary is a collection which is **unordered**, **changeable** and **indexed**. No duplicate members."
   ]
  },
  {
   "cell_type": "code",
   "execution_count": null,
   "metadata": {
    "id": "l9rh7OBbYfXN"
   },
   "outputs": [],
   "source": [
    "# Creating a dictionary\n",
    "fruit_colors = {\n",
    "    \"apple\": \"red\",\n",
    "    \"banana\": \"yellow\",\n",
    "    \"cherry\": \"red\"\n",
    "}\n",
    "print(type(fruit_colors))\n",
    "print(\"\\nDictionary of fruit colors:\", fruit_colors)"
   ]
  },
  {
   "cell_type": "code",
   "execution_count": null,
   "metadata": {
    "id": "AJVso7jhYxRQ"
   },
   "outputs": [],
   "source": [
    "# Accessing elements\n",
    "print(\"Color of apple:\", fruit_colors[\"apple\"])"
   ]
  },
  {
   "cell_type": "code",
   "execution_count": null,
   "metadata": {
    "id": "ltxgamdNYz9k"
   },
   "outputs": [],
   "source": [
    "# Modifying elements\n",
    "fruit_colors[\"banana\"] = \"green\"\n",
    "print(\"Modified dictionary of fruit colors:\", fruit_colors)"
   ]
  },
  {
   "cell_type": "code",
   "execution_count": null,
   "metadata": {
    "id": "hBLYCAkCY41b"
   },
   "outputs": [],
   "source": [
    "# Adding elements\n",
    "fruit_colors[\"orange\"] = \"orange\"\n",
    "print(\"Dictionary after adding an element:\", fruit_colors)"
   ]
  },
  {
   "cell_type": "markdown",
   "metadata": {
    "id": "UchJWh61ZLQD"
   },
   "source": [
    "## 2. Basic Python Scripts"
   ]
  },
  {
   "cell_type": "markdown",
   "metadata": {
    "id": "5uMBY2pnZPap"
   },
   "source": [
    "### Arithmetic Operations"
   ]
  },
  {
   "cell_type": "code",
   "execution_count": null,
   "metadata": {
    "id": "gTUSVrVkZTy4"
   },
   "outputs": [],
   "source": [
    "a = 10\n",
    "b = 5\n",
    "print(\"\\nArithmetic Operations:\")\n",
    "print(\"Addition:\", a + b)\n",
    "print(\"Subtraction:\", a - b)\n",
    "print(\"Multiplication:\", a * b)\n",
    "print(\"Division:\", a / b)"
   ]
  },
  {
   "cell_type": "markdown",
   "metadata": {
    "id": "sKVGgEM_ZZfV"
   },
   "source": [
    "\n",
    "### String Manipulation"
   ]
  },
  {
   "cell_type": "code",
   "execution_count": null,
   "metadata": {
    "id": "54wm0mUHZfeM"
   },
   "outputs": [],
   "source": [
    "name = \"Python\"\n",
    "print(\"\\nString Manipulation:\")\n",
    "print(\"Uppercase:\", name.upper())\n",
    "print(\"Lowercase:\", name.lower())\n",
    "print(\"Concatenation:\", name + \" is fun!\")"
   ]
  },
  {
   "cell_type": "markdown",
   "metadata": {
    "id": "10AX5Yd_Zir7"
   },
   "source": [
    "### Variable Assignments"
   ]
  },
  {
   "cell_type": "code",
   "execution_count": null,
   "metadata": {
    "id": "qYFivwRHZpMI"
   },
   "outputs": [],
   "source": [
    "x = 15\n",
    "y = \"Hello\"\n",
    "print(\"\\nVariable Assignments:\")\n",
    "print(\"Value of x:\", x)\n",
    "print(\"Value of y:\", y)"
   ]
  },
  {
   "cell_type": "markdown",
   "metadata": {
    "id": "YelxxMm-Zs20"
   },
   "source": [
    "## 3. Flow Control Structures"
   ]
  },
  {
   "cell_type": "markdown",
   "metadata": {
    "id": "R6V69IW8ZxF6"
   },
   "source": [
    "### Loops"
   ]
  },
  {
   "cell_type": "code",
   "execution_count": null,
   "metadata": {
    "id": "k21bIJifZ1vk"
   },
   "outputs": [],
   "source": [
    "# For loop\n",
    "print(\"\\nFor Loop:\")\n",
    "for i in range(5):\n",
    "    print(i)"
   ]
  },
  {
   "cell_type": "code",
   "execution_count": null,
   "metadata": {
    "id": "a_U2evGIZ5k1"
   },
   "outputs": [],
   "source": [
    "# While loop\n",
    "print(\"\\nWhile Loop:\")\n",
    "count = 0\n",
    "while count < 5:\n",
    "    print(count)\n",
    "    count += 1"
   ]
  },
  {
   "cell_type": "markdown",
   "metadata": {
    "id": "qTc532cuZ81o"
   },
   "source": [
    "### Conditional Statements"
   ]
  },
  {
   "cell_type": "code",
   "execution_count": null,
   "metadata": {
    "id": "bMLZ_JQIaFf1"
   },
   "outputs": [],
   "source": [
    "print(\"\\nConditional Statements:\")\n",
    "num = 10\n",
    "if num > 0:\n",
    "    print(\"Number is positive\")\n",
    "elif num == 0:\n",
    "    print(\"Number is zero\")\n",
    "else:\n",
    "    print(\"Number is negative\")"
   ]
  },
  {
   "cell_type": "markdown",
   "metadata": {
    "id": "fkHz-drGaKE8"
   },
   "source": [
    "## 4. Handling Errors"
   ]
  },
  {
   "cell_type": "markdown",
   "metadata": {
    "id": "-uDOQm4IaZvJ"
   },
   "source": [
    "### Try-Except Blocks"
   ]
  },
  {
   "cell_type": "code",
   "execution_count": null,
   "metadata": {
    "id": "U-LfaeohaTn4"
   },
   "outputs": [],
   "source": [
    "print(\"\\nHandling Errors:\")\n",
    "try:\n",
    "    result = 10 / 0\n",
    "    print(result)\n",
    "except ZeroDivisionError:\n",
    "    print(\"Cannot divide by zero\")"
   ]
  },
  {
   "cell_type": "markdown",
   "metadata": {
    "id": "HsXn9Jt7ae8I"
   },
   "source": [
    "## 5. Functions"
   ]
  },
  {
   "cell_type": "markdown",
   "metadata": {
    "id": "I7cgNlNmajEW"
   },
   "source": [
    "### Defining and Using Functions"
   ]
  },
  {
   "cell_type": "code",
   "execution_count": null,
   "metadata": {
    "id": "qIVgyz5KatvD"
   },
   "outputs": [],
   "source": [
    "print(\"\\nFunctions:\")\n",
    "\n",
    "def greet(name):\n",
    "    return \"Hello, \" + name\n",
    "\n",
    "print(greet(\"World\"))"
   ]
  },
  {
   "cell_type": "code",
   "execution_count": null,
   "metadata": {
    "id": "-w2xZsHQXI42"
   },
   "outputs": [],
   "source": [
    "# Interactive Exercise\n",
    "# Now it's your turn! Try creating a function that calculates the area of a rectangle given its width and height.\n",
    "\n",
    "def calculate_area(width, height):\n",
    "    return width * height\n",
    "\n",
    "# Test the function\n",
    "print(\"\\nCalculate Area Function:\")\n",
    "print(\"Area of rectangle (5x10):\", calculate_area(5, 10))\n"
   ]
  },
  {
   "cell_type": "markdown",
   "metadata": {
    "id": "C7KXJgePxJzc"
   },
   "source": [
    "## Learning Kata: Calculate average grade"
   ]
  },
  {
   "cell_type": "code",
   "execution_count": null,
   "metadata": {
    "id": "GgExJzTixRtr"
   },
   "outputs": [],
   "source": [
    "# Function to calculate the average grade with error handling\n",
    "def calculate_average(grades):\n",
    "    try:\n",
    "        if len(grades) == 0:\n",
    "            return 0\n",
    "        return sum(grades) / len(grades)\n",
    "    except TypeError:\n",
    "        print(\"Error: Grades list must contain numeric values only.\")\n",
    "        return None\n",
    "    except Exception as e:\n",
    "        print(f\"An unexpected error occurred: {e}\")\n",
    "        return None"
   ]
  },
  {
   "cell_type": "code",
   "execution_count": null,
   "metadata": {
    "id": "mmyoYsv_xcIC"
   },
   "outputs": [],
   "source": [
    "# Main program\n",
    "def main():\n",
    "    # Dictionary to store students and their grades\n",
    "    student_grades = {\"Alice\": 90, \"Bob\": 85, \"Charlie\": 100, \"Amad\": 100}\n",
    "\n",
    "\n",
    "    # Extract the grades from the dictionary\n",
    "    grades = list(student_grades.values())\n",
    "\n",
    "    # Calculate the average grade\n",
    "    average_grade = calculate_average(grades)\n",
    "    print(f\"The average grade is: {average_grade:.2f}\")\n"
   ]
  },
  {
   "cell_type": "code",
   "execution_count": null,
   "metadata": {
    "id": "ck9N4eXmHgrk"
   },
   "outputs": [],
   "source": [
    "# Run the main program\n",
    "if __name__ == \"__main__\":\n",
    "    main()"
   ]
  }
 ],
 "metadata": {
  "colab": {
   "collapsed_sections": [
    "C7KXJgePxJzc"
   ],
   "include_colab_link": true,
   "provenance": []
  },
  "kernelspec": {
   "display_name": "Python 3 (ipykernel)",
   "language": "python",
   "name": "python3"
  },
  "language_info": {
   "codemirror_mode": {
    "name": "ipython",
    "version": 3
   },
   "file_extension": ".py",
   "mimetype": "text/x-python",
   "name": "python",
   "nbconvert_exporter": "python",
   "pygments_lexer": "ipython3",
   "version": "3.12.4"
  }
 },
 "nbformat": 4,
 "nbformat_minor": 4
}
