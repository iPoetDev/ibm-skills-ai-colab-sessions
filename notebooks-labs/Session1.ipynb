{
  "cells": [
    {
      "cell_type": "markdown",
      "metadata": {
        "id": "view-in-github",
        "colab_type": "text"
      },
      "source": [
        "<a href=\"https://colab.research.google.com/github/iPoetDev/ibm-skills-ai-colab-sessions/blob/main/notebooks-labs/Session1.ipynb\" target=\"_parent\"><img src=\"https://colab.research.google.com/assets/colab-badge.svg\" alt=\"Open In Colab\"/></a>"
      ]
    },
    {
      "cell_type": "markdown",
      "metadata": {
        "id": "v9HT0p5rSKBs"
      },
      "source": [
        "### <ins>Session 1</ins>: **IBM Skill Build Programme in Artificial Intelligence: *Python Fundamentals***\n",
        "\n",
        "> #### **Objective**: *Understand the theory and hands-on implementation of*: <br>  1️⃣ Python Fundamentals\n",
        ">> - *Hands-on Python*: Variables, Data Structures (Lists, Tuples,Dictionaries)\n",
        ">> - *Coding Basics*: Write scripts for calculations, string manipulation, and assignments\n",
        ">> - *Control Program Flow*: Use loops (for/while) and conditional statements (if/else).\n",
        ">> - *Error Handling*: Identify and manage exceptions with try-except blocks\n",
        "Functions: Define reusable code blocks\n",
        "\n",
        "- **URL**: [https://skills.yourlearning.ibm.com/activity/PLAN-CB1CC0D21AFB](https://skills.yourlearning.ibm.com/activity/PLAN-CB1CC0D21AFB \"Programme for Artifical Intelligence: eLearning on IBM.com (Login required)\")<small><sup><strong>eLearning, Login</strong></sup></small><br>\n",
        "- **Recording**: [Recording: Live Technical Session 1](https://skills.yourlearning.ibm.com/activity/URL-441278226BEC \"Video: IBM's Box.com (Login required\") <small><sup><strong>eLearning, Login</strong></sup></small><br>\n",
        "- **GitHub: Source Notebook**: [https://github.com/marty916/AI-Training-Colab-Notebooks/blob/main/IBM-SkillsBuild-Program-in-Artificial-Intelligence/Session1_Python_Basics.ipynb](https://github.com/marty916/AI-Training-Colab-Notebooks/blob/main/IBM-SkillsBuild-Program-in-Artificial-Intelligence/Session1_Python_Basics.ipynb \"Authors: Marty Bradly's Session 1 Python Fundamentals\")\n",
        "  - Original by author: Marty Bradly: [LinkedIn](https://www.linkedin.com/in/martybradley/), [Website](https://www.evergreen-ai.com/), [GitHub @marty916](https://github.com/marty916 \"Marty Bradly [July, 2024], Last accessed: July 2024\")\n",
        "\n",
        "\n",
        "<br><br>\n",
        "\n",
        "## Python Basics\n",
        "\n",
        "Python Coding Resources:\n",
        "1. IBM SkillsBuild [Python for Programmers](https://skills.yourlearning.ibm.com/activity/URL-806B8D9B07FD)\n",
        "2. Code with Mosh [Complete Python Mastery ](https://codewithmosh.com/p/python-programming-course-beginners)\n",
        "3. Udemy or Coursera python courses\n",
        "4. Practice Katas, for example, [Code Wars](https://www.codewars.com/)"
      ]
    },
    {
      "cell_type": "markdown",
      "source": [
        "> <hr>"
      ],
      "metadata": {
        "id": "zNYaD77N9WLB"
      }
    },
    {
      "cell_type": "markdown",
      "source": [
        "## Lession Guide\n",
        "\n",
        "> **Target**: For beginners.\n",
        "> - As experienced intermediate engineer, this was a light refresh in service to overall programme objectives.\n",
        "\n",
        "<br>\n",
        "\n",
        "1. [Lists, Tuples, and Dictionaries](#scrollTo=8tg5R-kEUAL5)\n",
        "   - [List](#scrollTo=uwpZSiRZWzML)\n",
        "   - [Tuples](#scrollTo=jJ21T6fpWSbH)\n",
        "   - [Dictionaries](#scrollTo=5uMBY2pnZPap)\n",
        "2. [Basic Python Operations](#scrollTo=YelxxMm-Zs20)\n",
        "   - [Arithimetic Operations](#scrollTo=5uMBY2pnZPap)\n",
        "   - [String Manipulations](#scrollTo=sKVGgEM_ZZfV)\n",
        "   - [Variable Assignments](#scrollTo=10AX5Yd_Zir7)\n",
        "3. [Flow Control Structures](#scrollTo=YelxxMm-Zs20)\n",
        "   - [Lops](#scrollTo=qTc532cuZ81o)\n",
        "   - [Conditionals](#scrollTo=qTc532cuZ81o)\n",
        "4. [Handling Errors](#scrollTo=fkHz-drGaKE8)\n",
        "5. [Functions](#scrollTo=HsXn9Jt7ae8I)\n",
        "\n",
        "- [Learning Katas: Calculate Av Grade](#scrollTo=C7KXJgePxJzc)"
      ],
      "metadata": {
        "id": "o5ruemyz9YPA"
      }
    },
    {
      "cell_type": "markdown",
      "source": [
        "\n",
        "---\n",
        "> <hr>\n",
        "---"
      ],
      "metadata": {
        "id": "hmDqIMDTAoqK"
      }
    },
    {
      "cell_type": "markdown",
      "metadata": {
        "id": "8tg5R-kEUAL5"
      },
      "source": [
        "## 1. Lists, Tuples, and Dictionaries\n"
      ]
    },
    {
      "cell_type": "markdown",
      "metadata": {
        "id": "uwpZSiRZWzML"
      },
      "source": [
        "### List\n",
        "A list is a collection which is **ordered** and **changeable**. Allows duplicate members.\n"
      ]
    },
    {
      "cell_type": "code",
      "execution_count": null,
      "metadata": {
        "id": "DHJyay16WjvA"
      },
      "outputs": [],
      "source": []
    },
    {
      "cell_type": "markdown",
      "metadata": {
        "id": "9nQ0LtqGW2Va"
      },
      "source": []
    },
    {
      "cell_type": "code",
      "execution_count": null,
      "metadata": {
        "id": "jjIgJyHjXJy2"
      },
      "outputs": [],
      "source": [
        "# Creating a list\n",
        "fruits = [\"apple\", \"banana\", \"cherry\"]\n",
        "print(type(fruits))\n",
        "print(\"List of fruits:\", fruits)"
      ]
    },
    {
      "cell_type": "code",
      "execution_count": null,
      "metadata": {
        "id": "-s5WiT4zVJfn"
      },
      "outputs": [],
      "source": [
        "\n",
        "# Accessing elements\n",
        "print(\"First fruit:\", fruits[0])"
      ]
    },
    {
      "cell_type": "code",
      "execution_count": null,
      "metadata": {
        "id": "9iQWG-98VLuI"
      },
      "outputs": [],
      "source": [
        "# Modifying elements\n",
        "fruits[1] = \"blueberry\"\n",
        "print(\"Modified list of fruits:\", fruits)"
      ]
    },
    {
      "cell_type": "code",
      "execution_count": null,
      "metadata": {
        "id": "OjJDsmbyVNnD"
      },
      "outputs": [],
      "source": [
        "\n",
        "# Adding elements\n",
        "fruits.append(\"orange\")\n",
        "print(\"List after adding a fruit:\", fruits)"
      ]
    },
    {
      "cell_type": "markdown",
      "metadata": {
        "id": "jJ21T6fpWSbH"
      },
      "source": [
        "### Tuples\n",
        "A tuple is a collection which is **ordered** and **unchangeable**. Allows duplicate members."
      ]
    },
    {
      "cell_type": "code",
      "execution_count": null,
      "metadata": {
        "id": "3dntERsmUchY"
      },
      "outputs": [],
      "source": [
        "# Creating a tuple\n",
        "fruits_tuple = (\"apple\", \"banana\", \"cherry\")\n",
        "print(type(fruits_tuple))\n",
        "print(\"\\nTuple of fruits:\", fruits_tuple)\n"
      ]
    },
    {
      "cell_type": "code",
      "execution_count": null,
      "metadata": {
        "id": "UJyfdyPMXRjZ"
      },
      "outputs": [],
      "source": [
        "# Accessing elements\n",
        "print(\"First fruit in tuple:\", fruits_tuple[0])\n"
      ]
    },
    {
      "cell_type": "code",
      "execution_count": null,
      "metadata": {
        "id": "m2ALAOwMX5As"
      },
      "outputs": [],
      "source": [
        "# Uncomment the next line and run it to see if you can update a tuple\n",
        "# Tuples are immutable, so we cannot modify them directly this next line should give us an error\n",
        "#fruits_tuple[1] = \"blueberry\""
      ]
    },
    {
      "cell_type": "markdown",
      "metadata": {
        "id": "1H3NOHIIYU0v"
      },
      "source": [
        "### Dictionaries\n",
        "A dictionary is a collection which is **unordered**, **changeable** and **indexed**. No duplicate members."
      ]
    },
    {
      "cell_type": "code",
      "execution_count": null,
      "metadata": {
        "id": "l9rh7OBbYfXN"
      },
      "outputs": [],
      "source": [
        "# Creating a dictionary\n",
        "fruit_colors = {\n",
        "    \"apple\": \"red\",\n",
        "    \"banana\": \"yellow\",\n",
        "    \"cherry\": \"red\"\n",
        "}\n",
        "print(type(fruit_colors))\n",
        "print(\"\\nDictionary of fruit colors:\", fruit_colors)"
      ]
    },
    {
      "cell_type": "code",
      "execution_count": null,
      "metadata": {
        "id": "AJVso7jhYxRQ"
      },
      "outputs": [],
      "source": [
        "# Accessing elements\n",
        "print(\"Color of apple:\", fruit_colors[\"apple\"])"
      ]
    },
    {
      "cell_type": "code",
      "execution_count": null,
      "metadata": {
        "id": "ltxgamdNYz9k"
      },
      "outputs": [],
      "source": [
        "# Modifying elements\n",
        "fruit_colors[\"banana\"] = \"green\"\n",
        "print(\"Modified dictionary of fruit colors:\", fruit_colors)"
      ]
    },
    {
      "cell_type": "code",
      "execution_count": null,
      "metadata": {
        "id": "hBLYCAkCY41b"
      },
      "outputs": [],
      "source": [
        "# Adding elements\n",
        "fruit_colors[\"orange\"] = \"orange\"\n",
        "print(\"Dictionary after adding an element:\", fruit_colors)"
      ]
    },
    {
      "cell_type": "markdown",
      "source": [
        "> <hr>"
      ],
      "metadata": {
        "id": "DEbnMxZ9Atwu"
      }
    },
    {
      "cell_type": "markdown",
      "metadata": {
        "id": "UchJWh61ZLQD"
      },
      "source": [
        "## 2. Basic Python Scripts"
      ]
    },
    {
      "cell_type": "markdown",
      "metadata": {
        "id": "5uMBY2pnZPap"
      },
      "source": [
        "### Arithmetic Operations"
      ]
    },
    {
      "cell_type": "code",
      "execution_count": null,
      "metadata": {
        "id": "gTUSVrVkZTy4"
      },
      "outputs": [],
      "source": [
        "a = 10\n",
        "b = 5\n",
        "print(\"\\nArithmetic Operations:\")\n",
        "print(\"Addition:\", a + b)\n",
        "print(\"Subtraction:\", a - b)\n",
        "print(\"Multiplication:\", a * b)\n",
        "print(\"Division:\", a / b)"
      ]
    },
    {
      "cell_type": "markdown",
      "metadata": {
        "id": "sKVGgEM_ZZfV"
      },
      "source": [
        "\n",
        "### String Manipulation"
      ]
    },
    {
      "cell_type": "code",
      "execution_count": null,
      "metadata": {
        "id": "54wm0mUHZfeM"
      },
      "outputs": [],
      "source": [
        "name = \"Python\"\n",
        "print(\"\\nString Manipulation:\")\n",
        "print(\"Uppercase:\", name.upper())\n",
        "print(\"Lowercase:\", name.lower())\n",
        "print(\"Concatenation:\", name + \" is fun!\")"
      ]
    },
    {
      "cell_type": "markdown",
      "metadata": {
        "id": "10AX5Yd_Zir7"
      },
      "source": [
        "### Variable Assignments"
      ]
    },
    {
      "cell_type": "code",
      "execution_count": null,
      "metadata": {
        "id": "qYFivwRHZpMI"
      },
      "outputs": [],
      "source": [
        "x = 15\n",
        "y = \"Hello\"\n",
        "print(\"\\nVariable Assignments:\")\n",
        "print(\"Value of x:\", x)\n",
        "print(\"Value of y:\", y)"
      ]
    },
    {
      "cell_type": "markdown",
      "source": [
        "> <hr>"
      ],
      "metadata": {
        "id": "nlhOoz7IAx1R"
      }
    },
    {
      "cell_type": "markdown",
      "metadata": {
        "id": "YelxxMm-Zs20"
      },
      "source": [
        "## 3. Flow Control Structures"
      ]
    },
    {
      "cell_type": "markdown",
      "metadata": {
        "id": "R6V69IW8ZxF6"
      },
      "source": [
        "### Loops"
      ]
    },
    {
      "cell_type": "code",
      "execution_count": null,
      "metadata": {
        "id": "k21bIJifZ1vk"
      },
      "outputs": [],
      "source": [
        "# For loop\n",
        "print(\"\\nFor Loop:\")\n",
        "for i in range(5):\n",
        "    print(i)"
      ]
    },
    {
      "cell_type": "code",
      "execution_count": null,
      "metadata": {
        "id": "a_U2evGIZ5k1"
      },
      "outputs": [],
      "source": [
        "# While loop\n",
        "print(\"\\nWhile Loop:\")\n",
        "count = 0\n",
        "while count < 5:\n",
        "    print(count)\n",
        "    count += 1"
      ]
    },
    {
      "cell_type": "markdown",
      "metadata": {
        "id": "qTc532cuZ81o"
      },
      "source": [
        "### Conditional Statements"
      ]
    },
    {
      "cell_type": "code",
      "execution_count": null,
      "metadata": {
        "id": "bMLZ_JQIaFf1"
      },
      "outputs": [],
      "source": [
        "print(\"\\nConditional Statements:\")\n",
        "num = 10\n",
        "if num > 0:\n",
        "    print(\"Number is positive\")\n",
        "elif num == 0:\n",
        "    print(\"Number is zero\")\n",
        "else:\n",
        "    print(\"Number is negative\")"
      ]
    },
    {
      "cell_type": "markdown",
      "source": [
        "> <hr>"
      ],
      "metadata": {
        "id": "YY0L6mi1A1tg"
      }
    },
    {
      "cell_type": "markdown",
      "metadata": {
        "id": "fkHz-drGaKE8"
      },
      "source": [
        "## 4. Handling Errors"
      ]
    },
    {
      "cell_type": "markdown",
      "metadata": {
        "id": "-uDOQm4IaZvJ"
      },
      "source": [
        "### Try-Except Blocks"
      ]
    },
    {
      "cell_type": "code",
      "execution_count": null,
      "metadata": {
        "id": "U-LfaeohaTn4"
      },
      "outputs": [],
      "source": [
        "print(\"\\nHandling Errors:\")\n",
        "try:\n",
        "    result = 10 / 0\n",
        "    print(result)\n",
        "except ZeroDivisionError:\n",
        "    print(\"Cannot divide by zero\")"
      ]
    },
    {
      "cell_type": "markdown",
      "source": [
        "> <hr>"
      ],
      "metadata": {
        "id": "JAh5Uf10A3WB"
      }
    },
    {
      "cell_type": "markdown",
      "metadata": {
        "id": "HsXn9Jt7ae8I"
      },
      "source": [
        "## 5. Functions"
      ]
    },
    {
      "cell_type": "markdown",
      "metadata": {
        "id": "I7cgNlNmajEW"
      },
      "source": [
        "### Defining and Using Functions"
      ]
    },
    {
      "cell_type": "code",
      "execution_count": null,
      "metadata": {
        "id": "qIVgyz5KatvD"
      },
      "outputs": [],
      "source": [
        "print(\"\\nFunctions:\")\n",
        "\n",
        "def greet(name):\n",
        "    return \"Hello, \" + name\n",
        "\n",
        "print(greet(\"World\"))"
      ]
    },
    {
      "cell_type": "code",
      "execution_count": null,
      "metadata": {
        "id": "-w2xZsHQXI42"
      },
      "outputs": [],
      "source": [
        "# Interactive Exercise\n",
        "# Now it's your turn! Try creating a function that calculates the area of a rectangle given its width and height.\n",
        "\n",
        "def calculate_area(width, height):\n",
        "    return width * height\n",
        "\n",
        "# Test the function\n",
        "print(\"\\nCalculate Area Function:\")\n",
        "print(\"Area of rectangle (5x10):\", calculate_area(5, 10))\n"
      ]
    },
    {
      "cell_type": "markdown",
      "source": [
        "> <hr>"
      ],
      "metadata": {
        "id": "vkPqLxTAA-MB"
      }
    },
    {
      "cell_type": "markdown",
      "metadata": {
        "id": "C7KXJgePxJzc"
      },
      "source": [
        "## Learning Kata: Calculate average grade"
      ]
    },
    {
      "cell_type": "code",
      "execution_count": null,
      "metadata": {
        "id": "GgExJzTixRtr"
      },
      "outputs": [],
      "source": [
        "# Function to calculate the average grade with error handling\n",
        "def calculate_average(grades):\n",
        "    try:\n",
        "        if len(grades) == 0:\n",
        "            return 0\n",
        "        return sum(grades) / len(grades)\n",
        "    except TypeError:\n",
        "        print(\"Error: Grades list must contain numeric values only.\")\n",
        "        return None\n",
        "    except Exception as e:\n",
        "        print(f\"An unexpected error occurred: {e}\")\n",
        "        return None"
      ]
    },
    {
      "cell_type": "code",
      "execution_count": null,
      "metadata": {
        "id": "mmyoYsv_xcIC"
      },
      "outputs": [],
      "source": [
        "# Main program\n",
        "def main():\n",
        "    # Dictionary to store students and their grades\n",
        "    student_grades = {\"Alice\": 90, \"Bob\": 85, \"Charlie\": 100, \"Amad\": 100}\n",
        "\n",
        "\n",
        "    # Extract the grades from the dictionary\n",
        "    grades = list(student_grades.values())\n",
        "\n",
        "    # Calculate the average grade\n",
        "    average_grade = calculate_average(grades)\n",
        "    print(f\"The average grade is: {average_grade:.2f}\")\n"
      ]
    },
    {
      "cell_type": "code",
      "execution_count": null,
      "metadata": {
        "id": "ck9N4eXmHgrk"
      },
      "outputs": [],
      "source": [
        "# Run the main program\n",
        "if __name__ == \"__main__\":\n",
        "    main()"
      ]
    },
    {
      "cell_type": "markdown",
      "source": [
        "## Author\n",
        "\n",
        "[![LinkedIn](https://img.shields.io/badge/Author-Charles%20J%20Fowler-0077B5?logo=gmail&logoColor=white)](mailto:ipoetdev-github-no-reply@outlook.com \"Contact CJ on GItHub email: ipoetdev-github-no-reply@outlook.com\") <sup>|</sup> [![LinkedIn](https://img.shields.io/badge/Charles%20J%20Fowler-LinkedIn-0077B5?logo=linkedin&logoColor=white)](https://ie.linkedin.com/in/charlesjfowler \"@CharlesJFowler @Linkedin.com\") <sup>|</sup> [![LinkedIn](https://img.shields.io/badge/iPoetDev-GitHub-0077B5?logo=GitHub&logoColor=white)](https://github.com/ipoetdev \"@iPoetDev @GitHub\")\n",
        "\n",
        "## ChangeLog\n",
        "\n",
        "| Date<sup>1</sup> | Version | Changed By | Change | Activity | From |\n",
        "| :--- | :--- | :--- | :--- | :--- | :--- |\n",
        "| 2024-07-01  | 0.1 | Charles J Fowler  | Source uploaded | Uploaded  | [Source Notebook](.. \"Author: Marty Bradly\") |\n",
        "| 2024-07-26  | 0.2 | Charles J Fowler  | Draft Portfolio version | Modify  | --- |  \n",
        "<sup>1</sup>: `YYYY-MM-DD"
      ],
      "metadata": {
        "id": "jWu08cW3BH0m"
      }
    }
  ],
  "metadata": {
    "colab": {
      "collapsed_sections": [
        "C7KXJgePxJzc"
      ],
      "provenance": [],
      "include_colab_link": true
    },
    "kernelspec": {
      "display_name": "Python 3 (ipykernel)",
      "language": "python",
      "name": "python3"
    },
    "language_info": {
      "codemirror_mode": {
        "name": "ipython",
        "version": 3
      },
      "file_extension": ".py",
      "mimetype": "text/x-python",
      "name": "python",
      "nbconvert_exporter": "python",
      "pygments_lexer": "ipython3",
      "version": "3.12.4"
    }
  },
  "nbformat": 4,
  "nbformat_minor": 0
}