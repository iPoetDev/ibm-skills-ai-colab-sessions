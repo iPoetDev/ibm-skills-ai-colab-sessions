{
  "nbformat": 4,
  "nbformat_minor": 0,
  "metadata": {
    "colab": {
      "provenance": [],
      "include_colab_link": true
    },
    "kernelspec": {
      "name": "python3",
      "display_name": "Python 3"
    },
    "language_info": {
      "name": "python"
    }
  },
  "cells": [
    {
      "cell_type": "markdown",
      "metadata": {
        "id": "view-in-github",
        "colab_type": "text"
      },
      "source": [
        "<a href=\"https://colab.research.google.com/github/iPoetDev/ibm-skills-ai-colab-sessions/blob/main/notebooks-labs/Session4_OpenAI_Text_Completion.ipynb\" target=\"_parent\"><img src=\"https://colab.research.google.com/assets/colab-badge.svg\" alt=\"Open In Colab\"/></a>"
      ]
    },
    {
      "cell_type": "markdown",
      "source": [
        "# Install necessary components\n",
        "[OpenAI API Github](https://github.com/openai/openai-python)"
      ],
      "metadata": {
        "id": "xoYevZJPaO7M"
      }
    },
    {
      "cell_type": "code",
      "execution_count": null,
      "metadata": {
        "id": "--HsA5LXTQ_y"
      },
      "outputs": [],
      "source": [
        "!pip install openai"
      ]
    },
    {
      "cell_type": "code",
      "source": [
        "from openai import OpenAI"
      ],
      "metadata": {
        "id": "1BI4HTKkTeNQ"
      },
      "execution_count": null,
      "outputs": []
    },
    {
      "cell_type": "markdown",
      "source": [
        "# Instantiate an OpenAI client passing in your API Key.\n",
        "1. [Create an API Key-YouTube](https://www.youtube.com/watch?v=OB99E7Y1cMA)\n",
        "\n",
        "[OpenAPI Key](https://platform.openai.com/docs/overview)\n",
        "\n",
        "2. Click the \"key\" icon to the left to the \"secrets\" dialog box\n",
        "3. Select \"+ Add new secret\"\n",
        "4. Set Name to 'OPENAI_API_KEY' and paste your newly created OpenAI API Key into 'Value'\n",
        "5. Make sure \"Notebook access\" is on (check mark will show up to the right if it is on.\n",
        "\n",
        "NOTE: The reason you create a secret is to hide your API Key from others.  If anyone has access to your key, it will be used to track token usage and could end up with you getting charged for extra tokens.  Also, if you check in your notebook to github, if you have an exposed API Key in your code github may block the checkin. This is for your security."
      ],
      "metadata": {
        "id": "odmjGQ-FaiHq"
      }
    },
    {
      "cell_type": "code",
      "source": [
        "# set up OpenAI client\n",
        "from google.colab import userdata\n",
        "client = OpenAI(\n",
        "    api_key=userdata.get('OPENAI_API_KEY')\n",
        "    )"
      ],
      "metadata": {
        "id": "CnKXv_RFUj03"
      },
      "execution_count": null,
      "outputs": []
    },
    {
      "cell_type": "markdown",
      "source": [
        "# Reusable function using gpt-4o-mini model for completions.  \n",
        "\n",
        "Go to the OpenAI website to check models that are available, change the model and see if you get different responses.\n",
        "\n",
        "[OpenAI Models](https://platform.openai.com/docs/models)"
      ],
      "metadata": {
        "id": "2S6giTDNd1-a"
      }
    },
    {
      "cell_type": "code",
      "source": [
        "def generate_text(message):\n",
        "   response = client.chat.completions.create(\n",
        "            messages=[\n",
        "                {\"role\": \"system\", \"content\": \"You are a helpful assistant.\"},\n",
        "                {\"role\": \"user\", \"content\": message}\n",
        "            ],\n",
        "            model=\"gpt-4o-mini\"\n",
        "        )\n",
        "   return response.choices[0].message.content\n"
      ],
      "metadata": {
        "id": "lHrcb0a8TjjN"
      },
      "execution_count": null,
      "outputs": []
    },
    {
      "cell_type": "markdown",
      "source": [
        "# Example\n",
        "Write a fairy tale"
      ],
      "metadata": {
        "id": "5nJTCSVOet8a"
      }
    },
    {
      "cell_type": "code",
      "source": [
        "# Example prompt\n",
        "message = \"Once upon a time in a land far, far away, there was a\"\n",
        "\n",
        "# Generate text\n",
        "generated_text = generate_text(message)\n",
        "\n",
        "# Display the output\n",
        "print(\"Prompt:\", message)\n",
        "print(\"Generated Text:\", generated_text)\n"
      ],
      "metadata": {
        "id": "FUJxYWq1TppO"
      },
      "execution_count": null,
      "outputs": []
    },
    {
      "cell_type": "markdown",
      "source": [
        "# Create an interactive prompt\n",
        "1. Start a story like, \"Once upon a time there was a princess fighting for her\" HINT: leave it hanging so the model knows to start generating\n",
        "2. Ask, \"How do I bake a cake?\""
      ],
      "metadata": {
        "id": "LKw5xIe4e25E"
      }
    },
    {
      "cell_type": "code",
      "source": [
        "# Import IPython widgets for interactive input\n",
        "from IPython.display import display\n",
        "import ipywidgets as widgets\n",
        "\n",
        "# Create a text box for user input\n",
        "prompt_box = widgets.Textarea(\n",
        "    value='Enter your prompt here...',\n",
        "    placeholder='Type something...',\n",
        "    description='Prompt:',\n",
        "    disabled=False\n",
        ")\n",
        "\n",
        "# Create a button to generate text\n",
        "button = widgets.Button(description=\"Generate Text\")\n",
        "\n",
        "# Function to handle button click\n",
        "def on_button_click(b):\n",
        "    prompt = prompt_box.value\n",
        "    generated_text = generate_text(prompt)\n",
        "    print(\"Prompt:\", prompt)\n",
        "    print(\"Generated Text:\", generated_text)\n",
        "\n",
        "# Attach the function to the button click event\n",
        "button.on_click(on_button_click)\n",
        "\n",
        "# Display the text box and button\n",
        "display(prompt_box, button)\n"
      ],
      "metadata": {
        "id": "JWxgJ17pTts5"
      },
      "execution_count": null,
      "outputs": []
    }
  ]
}