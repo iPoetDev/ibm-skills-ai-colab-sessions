{
  "nbformat": 4,
  "nbformat_minor": 0,
  "metadata": {
    "colab": {
      "provenance": [],
      "include_colab_link": true
    },
    "kernelspec": {
      "name": "python3",
      "display_name": "Python 3"
    },
    "language_info": {
      "name": "python"
    }
  },
  "cells": [
    {
      "cell_type": "markdown",
      "metadata": {
        "id": "view-in-github",
        "colab_type": "text"
      },
      "source": [
        "<a href=\"https://colab.research.google.com/github/iPoetDev/ibm-skills-ai-colab-sessions/blob/main/notebooks-labs/Session4_OpenAI_Text_Completion.ipynb\" target=\"_parent\"><img src=\"https://colab.research.google.com/assets/colab-badge.svg\" alt=\"Open In Colab\"/></a>"
      ]
    },
    {
      "cell_type": "markdown",
      "source": [
        "# <ins>Session 4</ins>.: **IBM Skills Build: Embeddable AI Live Technical Lab**\n",
        "\n",
        "> #### **Objective**: *Understand the theory and hands-on implementation of*: <br> 1️⃣ Embedded AI- Hands-on Chatbots <sup><b><small>Interactive, CoLab</small></b></sup>\n",
        ">> - Embedded AI- Hands-on Chatbots using `Python`, `Flask`, `HTML`, `CSS`, and `Javascript`.\n",
        ">> - Integrate the chatbot with *OpenAI's* `GPT-4-o model` to give it a high level of intelligence and the ability to understand and respond to user requests\n",
        "\n",
        "> #### <br> 2️⃣ Embedded AI - IBM Watson Speach to Text <sup><b><small>Not Covered, External Platform</small></b></sup>\n",
        ">> - Implement `IBM Watson Speech-to-Text` functionality to allow the chatbot to understand voice input from users\n",
        "\n",
        ">> - Implement `IBM Watson Text-to-Speech` functionality to allow the chatbot to communicate with users through voice outputg\n",
        "\n",
        "- **URL**: [https://skills.yourlearning.ibm.com/activity/PLAN-CB1CC0D21AFB](https://skills.yourlearning.ibm.com/activity/PLAN-CB1CC0D21AFB \"Programme for Artifical Intelligence: eLearning on IBM.com (Login required)\") &nbsp;<small><sup><strong> eLearning, Login</strong></sup></small><br>\n",
        "- **Share**: [Create a Voice Assistant with OpenAI's GPT-3/4 and IBM Watson](https://skills.yourlearning.ibm.com/activity/SN-COURSE-V1:IBMSKILLSNETWORK+GPXX0IWWEN+V1 \"eLearning on IBM.com (Login required\") &nbsp;<small><sup><strong>eLearning, Login</strong></sup></small>\n",
        "- **Recording**: [Recording: Live Technical Session 4](https://skills.yourlearning.ibm.com/activity/URL-15DDC14F0206 \"Video: IBM's (Login required\") &nbsp;<small><sup><strong> eLearning, Login</strong></sup></small><br>\n",
        "- **CoLab: Source Notebook**: [https://colab.research.google.com/drive/1TZekNH-QvntOgj0ujc7PMQ27s4PQ0-qi#scrollTo=odmjGQ-FaiHq](https://colab.research.google.com/drive/1TZekNH-QvntOgj0ujc7PMQ27s4PQ0-qi#scrollTo=odmjGQ-FaiHq \"Authors: Marty Bradly's Session 4 Embeddable AI - Hands on with Chatbots\")\n",
        "  - Original by author: Marty Bradly: [LinkedIn](https://www.linkedin.com/in/martybradley/), [Website](https://www.evergreen-ai.com/), [GitHub @marty916](https://github.com/marty916 \"Marty Bradly [July, 2024], Last accessed: July 2024\")"
      ],
      "metadata": {
        "id": "-MuVZBIxWOzJ"
      }
    },
    {
      "cell_type": "markdown",
      "source": [
        "<small>Notebook for technical audiences | See [README](https://github.com/iPoetDev/ibm-skills-ai-colab-sessions/blob/main/README.md) and [Sessions.md](https://github.com/iPoetDev/ibm-skills-ai-colab-sessions/blob/main/Sessions.md) for business and product audiences</small>"
      ],
      "metadata": {
        "id": "WhYXVdsoaNot"
      }
    },
    {
      "cell_type": "markdown",
      "source": [
        "> <hr>"
      ],
      "metadata": {
        "id": "X2zitn-uahaD"
      }
    },
    {
      "cell_type": "markdown",
      "source": [
        "### **<ins>Notices</ins>**\n",
        "\n",
        "#### <ins>OpenAI API is paid/freemium.</ins>\n",
        "\n",
        "> - This session requires access to OpenAI's, (or another AI provider), API Key.\n",
        "- These API may require a credit/debit card.\n",
        "- Keep usage to a minimum, within thresholds, and usage will be free.\n",
        "- Do not expose your proof of concept solution to the public access.\n",
        "- Condfigure and run on `https://localhost`.\n",
        "\n",
        "#### <ins>API Keys as Secrets.</ins>\n",
        "\n",
        "> - Utilise strong confidentiality practices when using API Keys.\n",
        "- For Colab, add the key to the environmental variables.\n",
        "- OpenAI Environmental Key is `'OPENAI_API_KEY'`.\n",
        "- Do not expose directly your own API Key value.\n",
        "- Do not commit your OpenAI key to Github.\n",
        "- Use System environmental varaibles, `.env` files (`.gitignore`'d) or a secrets management solution for secure secrets transport."
      ],
      "metadata": {
        "id": "h_Nnwd8qbJ8r"
      }
    },
    {
      "cell_type": "markdown",
      "source": [
        "> <hr>"
      ],
      "metadata": {
        "id": "Zxcp0irkcpt4"
      }
    },
    {
      "cell_type": "markdown",
      "source": [
        "## GitHub\n",
        "\n",
        "- **IBM-Skills-AI_Colab-Sessions**:\n",
        "    - [README](https://github.com/iPoetDev/ibm-skills-ai-colab-sessions/blob/main/README.md)\n",
        "    - [Sessions Summary](https://github.com/iPoetDev/ibm-skills-ai-colab-sessions/blob/main/Sessions.md)\n",
        "    - [notebook-labs/Session4_OpenAI_Text_Completion](https://github.com/iPoetDev/ibm-skills-ai-colab-sessions/blob/main/notebooks-labs/Session4_OpenAI_Text_Completion.ipynb \"@iPoetDev: GitHub.com:  IBM-Skills-AI_Colab-Sessions: Session3_VAE Juypter Notebook\")"
      ],
      "metadata": {
        "id": "cWrN8MG4aYBn"
      }
    },
    {
      "cell_type": "markdown",
      "source": [
        "## Steps\n",
        "\n",
        "1.   []( \"\")\n",
        "2.   []( \"\")\n",
        "3.   []( \"\")\n",
        "4.   []( \"\")\n",
        "5.   []( \"\")\n",
        "\n"
      ],
      "metadata": {
        "id": "H7qBu7fEaX_Q"
      }
    },
    {
      "cell_type": "markdown",
      "source": [
        "# Install necessary components\n",
        "[OpenAI API Github](https://github.com/openai/openai-python)"
      ],
      "metadata": {
        "id": "xoYevZJPaO7M"
      }
    },
    {
      "cell_type": "code",
      "source": [],
      "metadata": {
        "id": "sOti2_lXZxQc"
      },
      "execution_count": null,
      "outputs": []
    },
    {
      "cell_type": "code",
      "execution_count": null,
      "metadata": {
        "id": "--HsA5LXTQ_y"
      },
      "outputs": [],
      "source": [
        "!pip install openai"
      ]
    },
    {
      "cell_type": "code",
      "source": [
        "from openai import OpenAI"
      ],
      "metadata": {
        "id": "1BI4HTKkTeNQ"
      },
      "execution_count": null,
      "outputs": []
    },
    {
      "cell_type": "markdown",
      "source": [
        "# Instantiate an OpenAI client passing in your API Key.\n",
        "1. [Create an API Key-YouTube](https://www.youtube.com/watch?v=OB99E7Y1cMA)\n",
        "\n",
        "[OpenAPI Key](https://platform.openai.com/docs/overview)\n",
        "\n",
        "2. Click the \"key\" icon to the left to the \"secrets\" dialog box\n",
        "3. Select \"+ Add new secret\"\n",
        "4. Set Name to 'OPENAI_API_KEY' and paste your newly created OpenAI API Key into 'Value'\n",
        "5. Make sure \"Notebook access\" is on (check mark will show up to the right if it is on.\n",
        "\n",
        "NOTE: The reason you create a secret is to hide your API Key from others.  If anyone has access to your key, it will be used to track token usage and could end up with you getting charged for extra tokens.  Also, if you check in your notebook to github, if you have an exposed API Key in your code github may block the checkin. This is for your security."
      ],
      "metadata": {
        "id": "odmjGQ-FaiHq"
      }
    },
    {
      "cell_type": "code",
      "source": [
        "# set up OpenAI client\n",
        "from google.colab import userdata\n",
        "client = OpenAI(\n",
        "    api_key=userdata.get('OPENAI_API_KEY')\n",
        "    )"
      ],
      "metadata": {
        "id": "CnKXv_RFUj03"
      },
      "execution_count": null,
      "outputs": []
    },
    {
      "cell_type": "markdown",
      "source": [
        "# Reusable function using gpt-4o-mini model for completions.  \n",
        "\n",
        "Go to the OpenAI website to check models that are available, change the model and see if you get different responses.\n",
        "\n",
        "[OpenAI Models](https://platform.openai.com/docs/models)"
      ],
      "metadata": {
        "id": "2S6giTDNd1-a"
      }
    },
    {
      "cell_type": "code",
      "source": [
        "def generate_text(message):\n",
        "   response = client.chat.completions.create(\n",
        "            messages=[\n",
        "                {\"role\": \"system\", \"content\": \"You are a helpful assistant.\"},\n",
        "                {\"role\": \"user\", \"content\": message}\n",
        "            ],\n",
        "            model=\"gpt-4o-mini\"\n",
        "        )\n",
        "   return response.choices[0].message.content\n"
      ],
      "metadata": {
        "id": "lHrcb0a8TjjN"
      },
      "execution_count": null,
      "outputs": []
    },
    {
      "cell_type": "markdown",
      "source": [
        "# Example\n",
        "Write a fairy tale"
      ],
      "metadata": {
        "id": "5nJTCSVOet8a"
      }
    },
    {
      "cell_type": "code",
      "source": [
        "# Example prompt\n",
        "message = \"Once upon a time in a land far, far away, there was a\"\n",
        "\n",
        "# Generate text\n",
        "generated_text = generate_text(message)\n",
        "\n",
        "# Display the output\n",
        "print(\"Prompt:\", message)\n",
        "print(\"Generated Text:\", generated_text)\n"
      ],
      "metadata": {
        "id": "FUJxYWq1TppO"
      },
      "execution_count": null,
      "outputs": []
    },
    {
      "cell_type": "markdown",
      "source": [
        "# Create an interactive prompt\n",
        "1. Start a story like, \"Once upon a time there was a princess fighting for her\" HINT: leave it hanging so the model knows to start generating\n",
        "2. Ask, \"How do I bake a cake?\""
      ],
      "metadata": {
        "id": "LKw5xIe4e25E"
      }
    },
    {
      "cell_type": "code",
      "source": [
        "# Import IPython widgets for interactive input\n",
        "from IPython.display import display\n",
        "import ipywidgets as widgets\n",
        "\n",
        "# Create a text box for user input\n",
        "prompt_box = widgets.Textarea(\n",
        "    value='Enter your prompt here...',\n",
        "    placeholder='Type something...',\n",
        "    description='Prompt:',\n",
        "    disabled=False\n",
        ")\n",
        "\n",
        "# Create a button to generate text\n",
        "button = widgets.Button(description=\"Generate Text\")\n",
        "\n",
        "# Function to handle button click\n",
        "def on_button_click(b):\n",
        "    prompt = prompt_box.value\n",
        "    generated_text = generate_text(prompt)\n",
        "    print(\"Prompt:\", prompt)\n",
        "    print(\"Generated Text:\", generated_text)\n",
        "\n",
        "# Attach the function to the button click event\n",
        "button.on_click(on_button_click)\n",
        "\n",
        "# Display the text box and button\n",
        "display(prompt_box, button)\n"
      ],
      "metadata": {
        "id": "JWxgJ17pTts5"
      },
      "execution_count": null,
      "outputs": []
    }
  ]
}