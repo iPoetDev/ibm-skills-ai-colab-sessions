{
  "cells": [
    {
      "cell_type": "markdown",
      "metadata": {
        "id": "view-in-github",
        "colab_type": "text"
      },
      "source": [
        "<a href=\"https://colab.research.google.com/github/iPoetDev/ibm-skills-ai-colab-sessions/blob/final-project/IBMSkillsBuild_ANSWER_AI_CreditCardFraudDetection_EN.ipynb\" target=\"_parent\"><img src=\"https://colab.research.google.com/assets/colab-badge.svg\" alt=\"Open In Colab\"/></a>"
      ]
    },
    {
      "cell_type": "markdown",
      "id": "ead4329e",
      "metadata": {
        "id": "ead4329e"
      },
      "source": [
        "![](https://github.com/iPoetDev/ibm-skills-ai-colab-sessions/blob/final-project/final-project/assets/img/skillup-logo.png?raw=1)"
      ]
    },
    {
      "cell_type": "markdown",
      "id": "c25c7041",
      "metadata": {
        "id": "c25c7041"
      },
      "source": [
        "# **FINAL PROJECT**: IBM Programme for Artifical Intelligence 2024:<br> **Credit Card Fraud Detection** <sup><small>Graded, Assessed</small></sup>"
      ]
    },
    {
      "cell_type": "markdown",
      "source": [
        "\n",
        "> ### OBJECTIVE: To apply the theory, utilise the hands-on live techical sessions examples in the implemenation of:<br>\n",
        "> ## 1️⃣ Credit Card Fraud Detection\n",
        ">> *  Use python libraries and frameworks\n",
        ">> *  Apply a workflow breakdown structure to the project, step by step.\n",
        ">> *  Gather and discet a kaggle dataset, as provided.\n",
        ">> *  Create an orginal authentic solution to the problem\n",
        "\n",
        "> <hr>\n",
        "\n",
        "- **URL**: <sup><b>eLearning, Login</b></sup>\n",
        "- **Share**: <sup><b>eLearning, Login</b></sup>\n",
        "- **Box.com**: []() <sup><b>eLearning, Login</b></sup>\n",
        "- **Assessment**:[]() <sup><b>eLearning, Login</b></sup>\n",
        "- **Source**: Notebook:\n",
        "\n",
        "**AUDIENCE**\n",
        "\n",
        "-\n",
        "-\n",
        "\n",
        "> <hr>\n",
        "\n",
        "# Table of Contents\n",
        "\n",
        "- [1. Project Management]()\n",
        "- [2. Dataset]()\n",
        "- [3. Methods & Approaches]()\n",
        "- [4. Workflow]()\n",
        "- [5. Solution]()\n",
        "- [6. Findings]()"
      ],
      "metadata": {
        "id": "mfoxl70UGQZH"
      },
      "id": "mfoxl70UGQZH"
    },
    {
      "cell_type": "markdown",
      "source": [
        "## 1. **<ins>PROJECT MANAGE</ins>**\n",
        "\n",
        "> ### Using GitHub Projects gives a porfilio and developmental space for processing this notebook. <br>\n",
        "> ### Summary highlights will be addessed in the `./📁final-project/`';s [README.md]()\n",
        "\n",
        "\n",
        "- This project is planned and controlled by a [GitHub Project: PROJECT: IBM Programme for Artificial Intelligence - Credit Card Fraud ](https://github.com/users/iPoetDev/projects/22)\n",
        "\n",
        "  - Project control and iterative/agile workflows to show case the work items and plan for solving final Project for the Programme for Artificial Intelligence 2024.\n",
        "  - Uses:\n",
        "    - Backlog\n",
        "    - Kanband Priority Board\n",
        "    - Roadmap\n",
        "\n",
        "### STAGES\n",
        "\n",
        "- DEFINE\n",
        "- IDENTIFY\n",
        "- GATHER\n",
        "- MANIPULATE\n",
        "- SELECT\n",
        "- TRAIN\n",
        "- VALIDATE\n",
        "- IMPROVE\n",
        "\n",
        "\n",
        "#### Key\n",
        "\n",
        "Key |  Use | Project Use Case\n",
        "---: | ---: | ---\n",
        "✅ | In Scope | For submission\n",
        "☑️ | Provided | Item is resources\n",
        "↪️ | Skip | Step is not necessary\n",
        "❓| TBC | To be confirmed\n",
        "🛑 | Not In scope | Future development\n",
        "\n",
        "### STEPS: To Solution <sup>Assessable</sup>\n",
        "\n",
        "- [ ]  [1] [<ins> Problem Identification</ins>](https://github.com/users/iPoetDev/projects/22/views/1?pane=issue&itemId=72909228) ✅\n",
        "  - [ ] Define the task\n",
        "  - [ ] Identify the goals\n",
        "  - [ ] Understand the requirements<br><br>\n",
        "- [ ]  [2] [<ins> Data Collection</ins>](https://github.com/users/iPoetDev/projects/22/views/1?pane=issue&itemId=72909298) ✅\n",
        "  - [ ] Gather Relevant Data ☑️\n",
        "  - [ ] Ensure Data diversity\n",
        "  - [ ] Prioritize quality sources <br><br>\n",
        "- [ ]  [3] [<ins> Data Processing</ins> ✅](https://github.com/users/iPoetDev/projects/22?pane=issue&itemId=72909353)\n",
        "  - [ ] Clean the data\n",
        "  - [ ] Organize information\n",
        "  - [ ] Format for analysis <br><br>\n",
        "- [ ]  [4] [<ins> Algorithm Selection</ins> ✅](https://github.com/users/iPoetDev/projects/22#)\n",
        "  - [ ] Choose appropriate models\n",
        "  - [ ] Consider task complexity\n",
        "  - [ ] Evaluate Efficiency <br><br>\n",
        "- [ ]  [5] [<ins> Model Training</ins> ✅](https://github.com/users/iPoetDev/projects/22?pane=issue&itemId=72916346)\n",
        "  - [ ] Feed data into model\n",
        "  - [ ] Adjust Parameters\n",
        "  - [ ] Optimize performance <br><br>\n",
        "- [ ]  [6] [<ins>Testing and Validation</ins> ✅](https://github.com/users/iPoetDev/projects/22?pane=issue&itemId=72916473)\n",
        "  - [ ] Assess model accuracy\n",
        "  - [ ] Cross Validate Results\n",
        "  - [ ] Ensure reliability <br><br>\n",
        "- [ ]  [ 7] [<ins> Iteration and Improvement </ins> ✅](https://github.com/users/iPoetDev/projects/22?pane=issue&itemId=72917451)\n",
        "  - [ ] Refine algorithms (selection, or logic)\n",
        "  - [ ] Enhance data quality (sourcing, composition)\n",
        "  - [ ] Optimize parameters (weights, biases)\n",
        "\n",
        "> <hr>\n",
        "\n",
        "\n",
        "\n"
      ],
      "metadata": {
        "id": "4NR3dn7YI50i"
      },
      "id": "4NR3dn7YI50i"
    },
    {
      "cell_type": "markdown",
      "id": "daaffd97",
      "metadata": {
        "id": "daaffd97"
      },
      "source": [
        "## 2. [<ins>Dataset</ins>](https://github.com/users/iPoetDev/projects/22/views/1?pane=issue&itemId=72909298)\n",
        "\n",
        "- Source: Kaggle.com\n",
        "- Link: https://www.kaggle.com/datasets/mlg-ulb/creditcardfraud"
      ]
    },
    {
      "cell_type": "markdown",
      "source": [
        "> <hr>"
      ],
      "metadata": {
        "id": "lEujkXhCNdAQ"
      },
      "id": "lEujkXhCNdAQ"
    },
    {
      "cell_type": "markdown",
      "source": [
        "## 3. Methods & Approaches\n",
        "\n",
        "-"
      ],
      "metadata": {
        "id": "kyLJToeRNIJq"
      },
      "id": "kyLJToeRNIJq"
    },
    {
      "cell_type": "markdown",
      "source": [
        "> <hr>"
      ],
      "metadata": {
        "id": "zRNKLs-ZNZ86"
      },
      "id": "zRNKLs-ZNZ86"
    },
    {
      "cell_type": "markdown",
      "source": [
        "## 4. <ins>Workflow</ins>\n",
        "\n",
        "Checks | Issues | Retries\n",
        "\n",
        "### a. Libraries\n",
        "\n",
        "- [x] ✅ Import success: 2024-8-18\n",
        "\n",
        "### b. Process Dataset\n",
        "\n",
        "- [x] ✅ Upload CSV to Collab 📂\n",
        "- [x] ✅ Check the CWD Dir and uploaded file path\n",
        "- [x] ✅ Checked the data set file status\n",
        "- [x] ✅ Applied file status as a boolean | none for loading dataset to dataframe\n",
        "- [x] ✅ Evaluated and assigned dataframe || error statement.\n",
        "- [x] ✅ Displayed 10 rows of dataframe +\n",
        "- [x] ✅ Used Collab Notebook features to graph and have interactive tables.\n",
        "\n",
        "### c. Clean Data\n",
        "\n",
        "-\n",
        "-\n",
        "\n",
        "### d. Analyse\n",
        "\n",
        "-\n",
        "-\n",
        "\n",
        "### e. Visualise\n",
        "\n",
        "-\n",
        "-\n",
        "\n",
        "### f. Model Development\n",
        "\n",
        "-\n",
        "-\n",
        "\n",
        "### g. Modul Eval:\n",
        "\n",
        "-\n",
        "-\n",
        "\n",
        "### h. Spliting Dataset\n",
        "\n",
        "-\n",
        "-\n",
        "\n",
        "### i. Evaluate Model"
      ],
      "metadata": {
        "id": "nQuDO_E8L8Vr"
      },
      "id": "nQuDO_E8L8Vr"
    },
    {
      "cell_type": "markdown",
      "source": [
        "> <hr>\n",
        "> <hr>"
      ],
      "metadata": {
        "id": "34nTdBglNVqE"
      },
      "id": "34nTdBglNVqE"
    },
    {
      "cell_type": "markdown",
      "id": "6795d0c1",
      "metadata": {
        "id": "6795d0c1"
      },
      "source": [
        "## 5. Solution\n",
        "\n",
        "- Coding Style: Employ Functions for completness and future testing\n",
        "- Test Function input for type errors / exit funtion.\n",
        "\n",
        "\n",
        "### Importing Necessary Libraries"
      ]
    },
    {
      "cell_type": "code",
      "execution_count": 6,
      "id": "2eb4d791",
      "metadata": {
        "id": "2eb4d791"
      },
      "outputs": [],
      "source": [
        "# Importing Required Libraries\n",
        "import os\n",
        "from google.colab import files\n",
        "import pandas as pd\n",
        "import numpy as np\n",
        "import matplotlib.pyplot as plt\n",
        "import seaborn as sns\n",
        "\n",
        "import warnings\n",
        "warnings.filterwarnings(\"ignore\")"
      ]
    },
    {
      "cell_type": "markdown",
      "id": "c4134d12",
      "metadata": {
        "id": "c4134d12"
      },
      "source": [
        "### Import and read dataset\n",
        "\n",
        "- Define the file ops and check functions\n",
        "- Include good exception handling.\n",
        "- load the file reference\n",
        "- Check the file status and it it exists.\n"
      ]
    },
    {
      "cell_type": "code",
      "source": [
        "# Function to check if a target file exists in the current working directory\n",
        "\n",
        "FRAUD_DATA_FILE = 'creditcard.csv'\n",
        "\n",
        "def check_file_exists(filename):\n",
        "    \"\"\"\n",
        "    Check if a target file exists in the current working directory.\n",
        "\n",
        "    Parameters\n",
        "    ----------\n",
        "    filename : str\n",
        "        The name of the file to be checked.\n",
        "\n",
        "    Returns\n",
        "    -------\n",
        "    bool\n",
        "        True if the file exists, False otherwise.\n",
        "    \"\"\"\n",
        "    cwd = os.getcwd()\n",
        "    print(\"Current Working Directory:\", cwd)\n",
        "    entries = os.listdir(cwd)\n",
        "    if filename in entries:\n",
        "        print(f\"The file '{filename}' exists in the current directory.\")\n",
        "        print(f\"Please ensure that it has completed its uploading\")\n",
        "        return True\n",
        "    else:\n",
        "        print(f\"The file '{filename}' does not exist in the current directory.\")\n",
        "        print(f\"Please ensure that you have started the upload per session\")\n",
        "        return False\n"
      ],
      "metadata": {
        "id": "mnpJ82wRZ-KF"
      },
      "id": "mnpJ82wRZ-KF",
      "execution_count": 7,
      "outputs": []
    },
    {
      "cell_type": "markdown",
      "source": [
        "- [ ] Check Fiule Path Status"
      ],
      "metadata": {
        "id": "tOnQZXsthSOv"
      },
      "id": "tOnQZXsthSOv"
    },
    {
      "cell_type": "code",
      "source": [
        "def check_file_status(file_path):\n",
        "    \"\"\"\n",
        "    Check the status of a file.\n",
        "\n",
        "    Parameters\n",
        "    ----------\n",
        "    file_path : str\n",
        "        The path to the file to be checked.\n",
        "\n",
        "    Returns\n",
        "    -------\n",
        "    bool\n",
        "        True if the file exists and is valid, False otherwise.\n",
        "    \"\"\"\n",
        "\n",
        "    # Other checks: a) if file_path is string and or has permissible file extenstions.\n",
        "    try:\n",
        "        if not os.path.isfile(file_path):\n",
        "            raise FileNotFoundError(f\"File '{file_path}' does not exist. Please check the file status.\")\n",
        "\n",
        "        return True\n",
        "\n",
        "    except FileNotFoundError as e:\n",
        "        print(e)\n",
        "    except Exception as e:\n",
        "        print(f\"An unexpected error occurred: {e}\")\n",
        "\n",
        "    return False\n",
        "\n",
        "# Dataset path and location\n",
        "has_status = check_file_status(FRAUD_DATA_FILE)\n",
        "has_loaded = check_file_exists(FRAUD_DATA_FILE)"
      ],
      "metadata": {
        "id": "InfZIFtDcVU1",
        "outputId": "5e78b962-b998-400a-d816-9b498d642bcc",
        "colab": {
          "base_uri": "https://localhost:8080/"
        }
      },
      "id": "InfZIFtDcVU1",
      "execution_count": 8,
      "outputs": [
        {
          "output_type": "stream",
          "name": "stdout",
          "text": [
            "Current Working Directory: /content\n",
            "The file 'creditcard.csv' exists in the current directory.\n",
            "Please ensure that it has completed its uploading\n"
          ]
        }
      ]
    },
    {
      "cell_type": "markdown",
      "source": [
        "- Define the rows shown by CONSTANT\n",
        "- Define Load Dataset function with checks"
      ],
      "metadata": {
        "id": "eIwOtsB4huvq"
      },
      "id": "eIwOtsB4huvq"
    },
    {
      "cell_type": "code",
      "execution_count": 9,
      "id": "29b35f75",
      "metadata": {
        "id": "29b35f75",
        "outputId": "16b47eec-f9e3-4434-e942-aaf6bf7b724e",
        "colab": {
          "base_uri": "https://localhost:8080/",
          "height": 412
        }
      },
      "outputs": [
        {
          "output_type": "execute_result",
          "data": {
            "text/plain": [
              "   Time        V1        V2        V3        V4        V5        V6        V7  \\\n",
              "0   0.0 -1.359807 -0.072781  2.536347  1.378155 -0.338321  0.462388  0.239599   \n",
              "1   0.0  1.191857  0.266151  0.166480  0.448154  0.060018 -0.082361 -0.078803   \n",
              "2   1.0 -1.358354 -1.340163  1.773209  0.379780 -0.503198  1.800499  0.791461   \n",
              "3   1.0 -0.966272 -0.185226  1.792993 -0.863291 -0.010309  1.247203  0.237609   \n",
              "4   2.0 -1.158233  0.877737  1.548718  0.403034 -0.407193  0.095921  0.592941   \n",
              "5   2.0 -0.425966  0.960523  1.141109 -0.168252  0.420987 -0.029728  0.476201   \n",
              "6   4.0  1.229658  0.141004  0.045371  1.202613  0.191881  0.272708 -0.005159   \n",
              "7   7.0 -0.644269  1.417964  1.074380 -0.492199  0.948934  0.428118  1.120631   \n",
              "8   7.0 -0.894286  0.286157 -0.113192 -0.271526  2.669599  3.721818  0.370145   \n",
              "9   9.0 -0.338262  1.119593  1.044367 -0.222187  0.499361 -0.246761  0.651583   \n",
              "\n",
              "         V8        V9  ...       V21       V22       V23       V24       V25  \\\n",
              "0  0.098698  0.363787  ... -0.018307  0.277838 -0.110474  0.066928  0.128539   \n",
              "1  0.085102 -0.255425  ... -0.225775 -0.638672  0.101288 -0.339846  0.167170   \n",
              "2  0.247676 -1.514654  ...  0.247998  0.771679  0.909412 -0.689281 -0.327642   \n",
              "3  0.377436 -1.387024  ... -0.108300  0.005274 -0.190321 -1.175575  0.647376   \n",
              "4 -0.270533  0.817739  ... -0.009431  0.798278 -0.137458  0.141267 -0.206010   \n",
              "5  0.260314 -0.568671  ... -0.208254 -0.559825 -0.026398 -0.371427 -0.232794   \n",
              "6  0.081213  0.464960  ... -0.167716 -0.270710 -0.154104 -0.780055  0.750137   \n",
              "7 -3.807864  0.615375  ...  1.943465 -1.015455  0.057504 -0.649709 -0.415267   \n",
              "8  0.851084 -0.392048  ... -0.073425 -0.268092 -0.204233  1.011592  0.373205   \n",
              "9  0.069539 -0.736727  ... -0.246914 -0.633753 -0.120794 -0.385050 -0.069733   \n",
              "\n",
              "        V26       V27       V28  Amount  Class  \n",
              "0 -0.189115  0.133558 -0.021053  149.62      0  \n",
              "1  0.125895 -0.008983  0.014724    2.69      0  \n",
              "2 -0.139097 -0.055353 -0.059752  378.66      0  \n",
              "3 -0.221929  0.062723  0.061458  123.50      0  \n",
              "4  0.502292  0.219422  0.215153   69.99      0  \n",
              "5  0.105915  0.253844  0.081080    3.67      0  \n",
              "6 -0.257237  0.034507  0.005168    4.99      0  \n",
              "7 -0.051634 -1.206921 -1.085339   40.80      0  \n",
              "8 -0.384157  0.011747  0.142404   93.20      0  \n",
              "9  0.094199  0.246219  0.083076    3.68      0  \n",
              "\n",
              "[10 rows x 31 columns]"
            ],
            "text/html": [
              "\n",
              "  <div id=\"df-fdef0fc3-fc7f-4c52-a57b-b36f720cdb81\" class=\"colab-df-container\">\n",
              "    <div>\n",
              "<style scoped>\n",
              "    .dataframe tbody tr th:only-of-type {\n",
              "        vertical-align: middle;\n",
              "    }\n",
              "\n",
              "    .dataframe tbody tr th {\n",
              "        vertical-align: top;\n",
              "    }\n",
              "\n",
              "    .dataframe thead th {\n",
              "        text-align: right;\n",
              "    }\n",
              "</style>\n",
              "<table border=\"1\" class=\"dataframe\">\n",
              "  <thead>\n",
              "    <tr style=\"text-align: right;\">\n",
              "      <th></th>\n",
              "      <th>Time</th>\n",
              "      <th>V1</th>\n",
              "      <th>V2</th>\n",
              "      <th>V3</th>\n",
              "      <th>V4</th>\n",
              "      <th>V5</th>\n",
              "      <th>V6</th>\n",
              "      <th>V7</th>\n",
              "      <th>V8</th>\n",
              "      <th>V9</th>\n",
              "      <th>...</th>\n",
              "      <th>V21</th>\n",
              "      <th>V22</th>\n",
              "      <th>V23</th>\n",
              "      <th>V24</th>\n",
              "      <th>V25</th>\n",
              "      <th>V26</th>\n",
              "      <th>V27</th>\n",
              "      <th>V28</th>\n",
              "      <th>Amount</th>\n",
              "      <th>Class</th>\n",
              "    </tr>\n",
              "  </thead>\n",
              "  <tbody>\n",
              "    <tr>\n",
              "      <th>0</th>\n",
              "      <td>0.0</td>\n",
              "      <td>-1.359807</td>\n",
              "      <td>-0.072781</td>\n",
              "      <td>2.536347</td>\n",
              "      <td>1.378155</td>\n",
              "      <td>-0.338321</td>\n",
              "      <td>0.462388</td>\n",
              "      <td>0.239599</td>\n",
              "      <td>0.098698</td>\n",
              "      <td>0.363787</td>\n",
              "      <td>...</td>\n",
              "      <td>-0.018307</td>\n",
              "      <td>0.277838</td>\n",
              "      <td>-0.110474</td>\n",
              "      <td>0.066928</td>\n",
              "      <td>0.128539</td>\n",
              "      <td>-0.189115</td>\n",
              "      <td>0.133558</td>\n",
              "      <td>-0.021053</td>\n",
              "      <td>149.62</td>\n",
              "      <td>0</td>\n",
              "    </tr>\n",
              "    <tr>\n",
              "      <th>1</th>\n",
              "      <td>0.0</td>\n",
              "      <td>1.191857</td>\n",
              "      <td>0.266151</td>\n",
              "      <td>0.166480</td>\n",
              "      <td>0.448154</td>\n",
              "      <td>0.060018</td>\n",
              "      <td>-0.082361</td>\n",
              "      <td>-0.078803</td>\n",
              "      <td>0.085102</td>\n",
              "      <td>-0.255425</td>\n",
              "      <td>...</td>\n",
              "      <td>-0.225775</td>\n",
              "      <td>-0.638672</td>\n",
              "      <td>0.101288</td>\n",
              "      <td>-0.339846</td>\n",
              "      <td>0.167170</td>\n",
              "      <td>0.125895</td>\n",
              "      <td>-0.008983</td>\n",
              "      <td>0.014724</td>\n",
              "      <td>2.69</td>\n",
              "      <td>0</td>\n",
              "    </tr>\n",
              "    <tr>\n",
              "      <th>2</th>\n",
              "      <td>1.0</td>\n",
              "      <td>-1.358354</td>\n",
              "      <td>-1.340163</td>\n",
              "      <td>1.773209</td>\n",
              "      <td>0.379780</td>\n",
              "      <td>-0.503198</td>\n",
              "      <td>1.800499</td>\n",
              "      <td>0.791461</td>\n",
              "      <td>0.247676</td>\n",
              "      <td>-1.514654</td>\n",
              "      <td>...</td>\n",
              "      <td>0.247998</td>\n",
              "      <td>0.771679</td>\n",
              "      <td>0.909412</td>\n",
              "      <td>-0.689281</td>\n",
              "      <td>-0.327642</td>\n",
              "      <td>-0.139097</td>\n",
              "      <td>-0.055353</td>\n",
              "      <td>-0.059752</td>\n",
              "      <td>378.66</td>\n",
              "      <td>0</td>\n",
              "    </tr>\n",
              "    <tr>\n",
              "      <th>3</th>\n",
              "      <td>1.0</td>\n",
              "      <td>-0.966272</td>\n",
              "      <td>-0.185226</td>\n",
              "      <td>1.792993</td>\n",
              "      <td>-0.863291</td>\n",
              "      <td>-0.010309</td>\n",
              "      <td>1.247203</td>\n",
              "      <td>0.237609</td>\n",
              "      <td>0.377436</td>\n",
              "      <td>-1.387024</td>\n",
              "      <td>...</td>\n",
              "      <td>-0.108300</td>\n",
              "      <td>0.005274</td>\n",
              "      <td>-0.190321</td>\n",
              "      <td>-1.175575</td>\n",
              "      <td>0.647376</td>\n",
              "      <td>-0.221929</td>\n",
              "      <td>0.062723</td>\n",
              "      <td>0.061458</td>\n",
              "      <td>123.50</td>\n",
              "      <td>0</td>\n",
              "    </tr>\n",
              "    <tr>\n",
              "      <th>4</th>\n",
              "      <td>2.0</td>\n",
              "      <td>-1.158233</td>\n",
              "      <td>0.877737</td>\n",
              "      <td>1.548718</td>\n",
              "      <td>0.403034</td>\n",
              "      <td>-0.407193</td>\n",
              "      <td>0.095921</td>\n",
              "      <td>0.592941</td>\n",
              "      <td>-0.270533</td>\n",
              "      <td>0.817739</td>\n",
              "      <td>...</td>\n",
              "      <td>-0.009431</td>\n",
              "      <td>0.798278</td>\n",
              "      <td>-0.137458</td>\n",
              "      <td>0.141267</td>\n",
              "      <td>-0.206010</td>\n",
              "      <td>0.502292</td>\n",
              "      <td>0.219422</td>\n",
              "      <td>0.215153</td>\n",
              "      <td>69.99</td>\n",
              "      <td>0</td>\n",
              "    </tr>\n",
              "    <tr>\n",
              "      <th>5</th>\n",
              "      <td>2.0</td>\n",
              "      <td>-0.425966</td>\n",
              "      <td>0.960523</td>\n",
              "      <td>1.141109</td>\n",
              "      <td>-0.168252</td>\n",
              "      <td>0.420987</td>\n",
              "      <td>-0.029728</td>\n",
              "      <td>0.476201</td>\n",
              "      <td>0.260314</td>\n",
              "      <td>-0.568671</td>\n",
              "      <td>...</td>\n",
              "      <td>-0.208254</td>\n",
              "      <td>-0.559825</td>\n",
              "      <td>-0.026398</td>\n",
              "      <td>-0.371427</td>\n",
              "      <td>-0.232794</td>\n",
              "      <td>0.105915</td>\n",
              "      <td>0.253844</td>\n",
              "      <td>0.081080</td>\n",
              "      <td>3.67</td>\n",
              "      <td>0</td>\n",
              "    </tr>\n",
              "    <tr>\n",
              "      <th>6</th>\n",
              "      <td>4.0</td>\n",
              "      <td>1.229658</td>\n",
              "      <td>0.141004</td>\n",
              "      <td>0.045371</td>\n",
              "      <td>1.202613</td>\n",
              "      <td>0.191881</td>\n",
              "      <td>0.272708</td>\n",
              "      <td>-0.005159</td>\n",
              "      <td>0.081213</td>\n",
              "      <td>0.464960</td>\n",
              "      <td>...</td>\n",
              "      <td>-0.167716</td>\n",
              "      <td>-0.270710</td>\n",
              "      <td>-0.154104</td>\n",
              "      <td>-0.780055</td>\n",
              "      <td>0.750137</td>\n",
              "      <td>-0.257237</td>\n",
              "      <td>0.034507</td>\n",
              "      <td>0.005168</td>\n",
              "      <td>4.99</td>\n",
              "      <td>0</td>\n",
              "    </tr>\n",
              "    <tr>\n",
              "      <th>7</th>\n",
              "      <td>7.0</td>\n",
              "      <td>-0.644269</td>\n",
              "      <td>1.417964</td>\n",
              "      <td>1.074380</td>\n",
              "      <td>-0.492199</td>\n",
              "      <td>0.948934</td>\n",
              "      <td>0.428118</td>\n",
              "      <td>1.120631</td>\n",
              "      <td>-3.807864</td>\n",
              "      <td>0.615375</td>\n",
              "      <td>...</td>\n",
              "      <td>1.943465</td>\n",
              "      <td>-1.015455</td>\n",
              "      <td>0.057504</td>\n",
              "      <td>-0.649709</td>\n",
              "      <td>-0.415267</td>\n",
              "      <td>-0.051634</td>\n",
              "      <td>-1.206921</td>\n",
              "      <td>-1.085339</td>\n",
              "      <td>40.80</td>\n",
              "      <td>0</td>\n",
              "    </tr>\n",
              "    <tr>\n",
              "      <th>8</th>\n",
              "      <td>7.0</td>\n",
              "      <td>-0.894286</td>\n",
              "      <td>0.286157</td>\n",
              "      <td>-0.113192</td>\n",
              "      <td>-0.271526</td>\n",
              "      <td>2.669599</td>\n",
              "      <td>3.721818</td>\n",
              "      <td>0.370145</td>\n",
              "      <td>0.851084</td>\n",
              "      <td>-0.392048</td>\n",
              "      <td>...</td>\n",
              "      <td>-0.073425</td>\n",
              "      <td>-0.268092</td>\n",
              "      <td>-0.204233</td>\n",
              "      <td>1.011592</td>\n",
              "      <td>0.373205</td>\n",
              "      <td>-0.384157</td>\n",
              "      <td>0.011747</td>\n",
              "      <td>0.142404</td>\n",
              "      <td>93.20</td>\n",
              "      <td>0</td>\n",
              "    </tr>\n",
              "    <tr>\n",
              "      <th>9</th>\n",
              "      <td>9.0</td>\n",
              "      <td>-0.338262</td>\n",
              "      <td>1.119593</td>\n",
              "      <td>1.044367</td>\n",
              "      <td>-0.222187</td>\n",
              "      <td>0.499361</td>\n",
              "      <td>-0.246761</td>\n",
              "      <td>0.651583</td>\n",
              "      <td>0.069539</td>\n",
              "      <td>-0.736727</td>\n",
              "      <td>...</td>\n",
              "      <td>-0.246914</td>\n",
              "      <td>-0.633753</td>\n",
              "      <td>-0.120794</td>\n",
              "      <td>-0.385050</td>\n",
              "      <td>-0.069733</td>\n",
              "      <td>0.094199</td>\n",
              "      <td>0.246219</td>\n",
              "      <td>0.083076</td>\n",
              "      <td>3.68</td>\n",
              "      <td>0</td>\n",
              "    </tr>\n",
              "  </tbody>\n",
              "</table>\n",
              "<p>10 rows × 31 columns</p>\n",
              "</div>\n",
              "    <div class=\"colab-df-buttons\">\n",
              "\n",
              "  <div class=\"colab-df-container\">\n",
              "    <button class=\"colab-df-convert\" onclick=\"convertToInteractive('df-fdef0fc3-fc7f-4c52-a57b-b36f720cdb81')\"\n",
              "            title=\"Convert this dataframe to an interactive table.\"\n",
              "            style=\"display:none;\">\n",
              "\n",
              "  <svg xmlns=\"http://www.w3.org/2000/svg\" height=\"24px\" viewBox=\"0 -960 960 960\">\n",
              "    <path d=\"M120-120v-720h720v720H120Zm60-500h600v-160H180v160Zm220 220h160v-160H400v160Zm0 220h160v-160H400v160ZM180-400h160v-160H180v160Zm440 0h160v-160H620v160ZM180-180h160v-160H180v160Zm440 0h160v-160H620v160Z\"/>\n",
              "  </svg>\n",
              "    </button>\n",
              "\n",
              "  <style>\n",
              "    .colab-df-container {\n",
              "      display:flex;\n",
              "      gap: 12px;\n",
              "    }\n",
              "\n",
              "    .colab-df-convert {\n",
              "      background-color: #E8F0FE;\n",
              "      border: none;\n",
              "      border-radius: 50%;\n",
              "      cursor: pointer;\n",
              "      display: none;\n",
              "      fill: #1967D2;\n",
              "      height: 32px;\n",
              "      padding: 0 0 0 0;\n",
              "      width: 32px;\n",
              "    }\n",
              "\n",
              "    .colab-df-convert:hover {\n",
              "      background-color: #E2EBFA;\n",
              "      box-shadow: 0px 1px 2px rgba(60, 64, 67, 0.3), 0px 1px 3px 1px rgba(60, 64, 67, 0.15);\n",
              "      fill: #174EA6;\n",
              "    }\n",
              "\n",
              "    .colab-df-buttons div {\n",
              "      margin-bottom: 4px;\n",
              "    }\n",
              "\n",
              "    [theme=dark] .colab-df-convert {\n",
              "      background-color: #3B4455;\n",
              "      fill: #D2E3FC;\n",
              "    }\n",
              "\n",
              "    [theme=dark] .colab-df-convert:hover {\n",
              "      background-color: #434B5C;\n",
              "      box-shadow: 0px 1px 3px 1px rgba(0, 0, 0, 0.15);\n",
              "      filter: drop-shadow(0px 1px 2px rgba(0, 0, 0, 0.3));\n",
              "      fill: #FFFFFF;\n",
              "    }\n",
              "  </style>\n",
              "\n",
              "    <script>\n",
              "      const buttonEl =\n",
              "        document.querySelector('#df-fdef0fc3-fc7f-4c52-a57b-b36f720cdb81 button.colab-df-convert');\n",
              "      buttonEl.style.display =\n",
              "        google.colab.kernel.accessAllowed ? 'block' : 'none';\n",
              "\n",
              "      async function convertToInteractive(key) {\n",
              "        const element = document.querySelector('#df-fdef0fc3-fc7f-4c52-a57b-b36f720cdb81');\n",
              "        const dataTable =\n",
              "          await google.colab.kernel.invokeFunction('convertToInteractive',\n",
              "                                                    [key], {});\n",
              "        if (!dataTable) return;\n",
              "\n",
              "        const docLinkHtml = 'Like what you see? Visit the ' +\n",
              "          '<a target=\"_blank\" href=https://colab.research.google.com/notebooks/data_table.ipynb>data table notebook</a>'\n",
              "          + ' to learn more about interactive tables.';\n",
              "        element.innerHTML = '';\n",
              "        dataTable['output_type'] = 'display_data';\n",
              "        await google.colab.output.renderOutput(dataTable, element);\n",
              "        const docLink = document.createElement('div');\n",
              "        docLink.innerHTML = docLinkHtml;\n",
              "        element.appendChild(docLink);\n",
              "      }\n",
              "    </script>\n",
              "  </div>\n",
              "\n",
              "\n",
              "<div id=\"df-21d25659-80f9-4e22-8a99-f6ec5584f378\">\n",
              "  <button class=\"colab-df-quickchart\" onclick=\"quickchart('df-21d25659-80f9-4e22-8a99-f6ec5584f378')\"\n",
              "            title=\"Suggest charts\"\n",
              "            style=\"display:none;\">\n",
              "\n",
              "<svg xmlns=\"http://www.w3.org/2000/svg\" height=\"24px\"viewBox=\"0 0 24 24\"\n",
              "     width=\"24px\">\n",
              "    <g>\n",
              "        <path d=\"M19 3H5c-1.1 0-2 .9-2 2v14c0 1.1.9 2 2 2h14c1.1 0 2-.9 2-2V5c0-1.1-.9-2-2-2zM9 17H7v-7h2v7zm4 0h-2V7h2v10zm4 0h-2v-4h2v4z\"/>\n",
              "    </g>\n",
              "</svg>\n",
              "  </button>\n",
              "\n",
              "<style>\n",
              "  .colab-df-quickchart {\n",
              "      --bg-color: #E8F0FE;\n",
              "      --fill-color: #1967D2;\n",
              "      --hover-bg-color: #E2EBFA;\n",
              "      --hover-fill-color: #174EA6;\n",
              "      --disabled-fill-color: #AAA;\n",
              "      --disabled-bg-color: #DDD;\n",
              "  }\n",
              "\n",
              "  [theme=dark] .colab-df-quickchart {\n",
              "      --bg-color: #3B4455;\n",
              "      --fill-color: #D2E3FC;\n",
              "      --hover-bg-color: #434B5C;\n",
              "      --hover-fill-color: #FFFFFF;\n",
              "      --disabled-bg-color: #3B4455;\n",
              "      --disabled-fill-color: #666;\n",
              "  }\n",
              "\n",
              "  .colab-df-quickchart {\n",
              "    background-color: var(--bg-color);\n",
              "    border: none;\n",
              "    border-radius: 50%;\n",
              "    cursor: pointer;\n",
              "    display: none;\n",
              "    fill: var(--fill-color);\n",
              "    height: 32px;\n",
              "    padding: 0;\n",
              "    width: 32px;\n",
              "  }\n",
              "\n",
              "  .colab-df-quickchart:hover {\n",
              "    background-color: var(--hover-bg-color);\n",
              "    box-shadow: 0 1px 2px rgba(60, 64, 67, 0.3), 0 1px 3px 1px rgba(60, 64, 67, 0.15);\n",
              "    fill: var(--button-hover-fill-color);\n",
              "  }\n",
              "\n",
              "  .colab-df-quickchart-complete:disabled,\n",
              "  .colab-df-quickchart-complete:disabled:hover {\n",
              "    background-color: var(--disabled-bg-color);\n",
              "    fill: var(--disabled-fill-color);\n",
              "    box-shadow: none;\n",
              "  }\n",
              "\n",
              "  .colab-df-spinner {\n",
              "    border: 2px solid var(--fill-color);\n",
              "    border-color: transparent;\n",
              "    border-bottom-color: var(--fill-color);\n",
              "    animation:\n",
              "      spin 1s steps(1) infinite;\n",
              "  }\n",
              "\n",
              "  @keyframes spin {\n",
              "    0% {\n",
              "      border-color: transparent;\n",
              "      border-bottom-color: var(--fill-color);\n",
              "      border-left-color: var(--fill-color);\n",
              "    }\n",
              "    20% {\n",
              "      border-color: transparent;\n",
              "      border-left-color: var(--fill-color);\n",
              "      border-top-color: var(--fill-color);\n",
              "    }\n",
              "    30% {\n",
              "      border-color: transparent;\n",
              "      border-left-color: var(--fill-color);\n",
              "      border-top-color: var(--fill-color);\n",
              "      border-right-color: var(--fill-color);\n",
              "    }\n",
              "    40% {\n",
              "      border-color: transparent;\n",
              "      border-right-color: var(--fill-color);\n",
              "      border-top-color: var(--fill-color);\n",
              "    }\n",
              "    60% {\n",
              "      border-color: transparent;\n",
              "      border-right-color: var(--fill-color);\n",
              "    }\n",
              "    80% {\n",
              "      border-color: transparent;\n",
              "      border-right-color: var(--fill-color);\n",
              "      border-bottom-color: var(--fill-color);\n",
              "    }\n",
              "    90% {\n",
              "      border-color: transparent;\n",
              "      border-bottom-color: var(--fill-color);\n",
              "    }\n",
              "  }\n",
              "</style>\n",
              "\n",
              "  <script>\n",
              "    async function quickchart(key) {\n",
              "      const quickchartButtonEl =\n",
              "        document.querySelector('#' + key + ' button');\n",
              "      quickchartButtonEl.disabled = true;  // To prevent multiple clicks.\n",
              "      quickchartButtonEl.classList.add('colab-df-spinner');\n",
              "      try {\n",
              "        const charts = await google.colab.kernel.invokeFunction(\n",
              "            'suggestCharts', [key], {});\n",
              "      } catch (error) {\n",
              "        console.error('Error during call to suggestCharts:', error);\n",
              "      }\n",
              "      quickchartButtonEl.classList.remove('colab-df-spinner');\n",
              "      quickchartButtonEl.classList.add('colab-df-quickchart-complete');\n",
              "    }\n",
              "    (() => {\n",
              "      let quickchartButtonEl =\n",
              "        document.querySelector('#df-21d25659-80f9-4e22-8a99-f6ec5584f378 button');\n",
              "      quickchartButtonEl.style.display =\n",
              "        google.colab.kernel.accessAllowed ? 'block' : 'none';\n",
              "    })();\n",
              "  </script>\n",
              "</div>\n",
              "\n",
              "    </div>\n",
              "  </div>\n"
            ],
            "application/vnd.google.colaboratory.intrinsic+json": {
              "type": "dataframe",
              "variable_name": "dataset"
            }
          },
          "metadata": {},
          "execution_count": 9
        }
      ],
      "source": [
        "# Read Data into a Dataframe.\n",
        "ROWS_SHOWN = 10\n",
        "\n",
        "# Function to check and load.\n",
        "def load_dataset(file, file_status, does_exists):\n",
        "    \"\"\"\n",
        "    Load a dataset from a CSV file if the file exists and is valid.\n",
        "\n",
        "    This function checks `check_file_status` and `check_file_exists`.\n",
        "    If both pass, it loads the dataset into a pandas DataFrame.\n",
        "\n",
        "    Parameters\n",
        "    ----------\n",
        "    file : str\n",
        "        The path to the CSV file to be loaded.\n",
        "    file_status : bool\n",
        "        The status of the file.\n",
        "    does_exists : bool\n",
        "        The existence of the file.\n",
        "\n",
        "    Returns\n",
        "    -------\n",
        "    pandas.DataFrame or None\n",
        "        A DataFrame containing the data from the CSV file if the file exists\n",
        "        and is valid; otherwise, None.\n",
        "    \"\"\"\n",
        "\n",
        "    if file_status and does_exists:\n",
        "        # Load dataframe from csv\n",
        "        df = pd.read_csv(file)\n",
        "        return df\n",
        "\n",
        "    return None\n",
        "\n",
        "# Eval and Error control.\n",
        "dataset = load_dataset(FRAUD_DATA_FILE, has_status, has_loaded) if True else print('Error: No Dataframe loaded. Check the dataset file path.')\n",
        "\n",
        "# Show DF Head as samplar.\n",
        "dataset.head(ROWS_SHOWN)"
      ]
    },
    {
      "cell_type": "markdown",
      "source": [
        "## Check Panda Arg Types\n",
        "\n",
        "- [x] Check for Panda DataFrame\n",
        "- [x] Check  for Panda Series or DataFrame\n",
        "- [x] Used to as guard conditionals in subequent functions/reuse."
      ],
      "metadata": {
        "id": "bc8bTfTSUq4v"
      },
      "id": "bc8bTfTSUq4v"
    },
    {
      "cell_type": "code",
      "source": [
        "def check_panda_frame(data, name):\n",
        "    \"\"\"\n",
        "    Check if the input is a pandas DataFrame.\n",
        "\n",
        "    Parameters\n",
        "    ----------\n",
        "    data : any\n",
        "        The data to check.\n",
        "    name : str\n",
        "        The name of the variable for error messages.\n",
        "\n",
        "    Raises\n",
        "    ------\n",
        "    TypeError\n",
        "        If the data is not a pandas DataFrame.\n",
        "    \"\"\"\n",
        "    if not isinstance(data, pd.DataFrame):\n",
        "        raise TypeError(f\"{name} must be a pandas DataFrame\")\n",
        "\n",
        "def check_panda_type(data, name):\n",
        "    \"\"\"\n",
        "    Check if the input is a pandas Series or DataFrame.\n",
        "\n",
        "    Parameters\n",
        "    ----------\n",
        "    data : any\n",
        "        The data to check.\n",
        "    name : str\n",
        "        The name of the variable for error messages.\n",
        "\n",
        "    Raises\n",
        "    ------\n",
        "    TypeError\n",
        "        If the data is not a pandas Series or DataFrame.\n",
        "    \"\"\"\n",
        "    if not isinstance(data, (pd.Series, pd.DataFrame)):\n",
        "        raise TypeError(f\"{name} must be a pandas Series or DataFrame\")"
      ],
      "metadata": {
        "id": "F3HPgJn2jNAR"
      },
      "id": "F3HPgJn2jNAR",
      "execution_count": 10,
      "outputs": []
    },
    {
      "cell_type": "markdown",
      "id": "3d4fe1a9",
      "metadata": {
        "id": "3d4fe1a9"
      },
      "source": [
        "### Data Cleaning"
      ]
    },
    {
      "cell_type": "markdown",
      "id": "fe00f5bd",
      "metadata": {
        "id": "fe00f5bd"
      },
      "source": [
        "a. Missing Value\n",
        "\n",
        "- Missing values are important as they significantly impact\n",
        "    - the quality of analysis\n",
        "    - integrity of your data analysis.\n",
        "    - understanding the dataset's completeness and reliability.\n",
        "- Informed decision-making: Knowing which columns have missing values and how many are missing allows you to make informed decisions\n",
        "- Model performance: Missing values can adversely affect the performance of machine learning model\n",
        "- Data xxploration: Understanding the pattern and distribution of missing values can provide insights into\n",
        "    - The data collection process\n",
        "    - The highlight potential issues or biases.\n"
      ]
    },
    {
      "cell_type": "code",
      "execution_count": 11,
      "id": "efd10e6f",
      "metadata": {
        "id": "efd10e6f",
        "colab": {
          "base_uri": "https://localhost:8080/"
        },
        "outputId": "8e8ace1e-c052-4352-be51-a88652adaf78"
      },
      "outputs": [
        {
          "output_type": "stream",
          "name": "stdout",
          "text": [
            "Time      0\n",
            "V1        0\n",
            "V2        0\n",
            "V3        0\n",
            "V4        0\n",
            "V5        0\n",
            "V6        0\n",
            "V7        0\n",
            "V8        0\n",
            "V9        0\n",
            "V10       0\n",
            "V11       0\n",
            "V12       0\n",
            "V13       0\n",
            "V14       0\n",
            "V15       0\n",
            "V16       0\n",
            "V17       0\n",
            "V18       0\n",
            "V19       0\n",
            "V20       0\n",
            "V21       0\n",
            "V22       0\n",
            "V23       0\n",
            "V24       0\n",
            "V25       0\n",
            "V26       0\n",
            "V27       0\n",
            "V28       0\n",
            "Amount    0\n",
            "Class     0\n",
            "dtype: int64\n",
            "Total missing values: 0\n"
          ]
        }
      ],
      "source": [
        "# Check for Nulls and the sum to eval the quantity\n",
        "# Assumes/checks for pandas DataFrame having named data\n",
        "\n",
        "def data_missing_values(df):\n",
        "    check_panda_frame(df, 'df')\n",
        "    # Check for Nulls and the sum to eval the quantity\n",
        "    return df.isnull().sum()\n",
        "\n",
        "# Prints the dataset counts per column\n",
        "print(data_missing_values(dataset))\n",
        "count_missing = data_missing_values(dataset)\n",
        "# Prints the total.\n",
        "print(f\"Total missing values: {count_missing.sum()}\")"
      ]
    },
    {
      "cell_type": "markdown",
      "source": [
        "- [x] ✅ Data Ouput: No Missing Values"
      ],
      "metadata": {
        "id": "r5pn6LVdVWHl"
      },
      "id": "r5pn6LVdVWHl"
    },
    {
      "cell_type": "markdown",
      "id": "4516036d",
      "metadata": {
        "id": "4516036d"
      },
      "source": [
        "b. Duplicate data\n",
        "\n",
        "> Overall, `df.drop_duplicates()` is a crucial step in preparing a dataset for analysis or modeling, ensuring that the data is clean, consistent, and reliable.\n",
        "\n",
        "- **Data Integrity**: Duplicate rows can lead to misleading analysis and incorrect conclusions\n",
        "- **Efficiency**: Duplicate data can increase the size of the dataset unnecessarily\n",
        "- **Model Accuracy**: In machine learning, duplicate records can bias the model and affect its accuracy\n",
        "- **Data Consistency**: Duplicate entries can cause inconsistencies in the dataset"
      ]
    },
    {
      "cell_type": "code",
      "execution_count": 12,
      "id": "da501911",
      "metadata": {
        "id": "da501911",
        "outputId": "d524fe41-d3ec-4226-cb13-a1caf6c4f5d3",
        "colab": {
          "base_uri": "https://localhost:8080/"
        }
      },
      "outputs": [
        {
          "output_type": "stream",
          "name": "stdout",
          "text": [
            "1081 Duplicates found and will be removed.\n",
            "Duplicates were removed: True\n",
            "Total duplicates removed: 1081\n"
          ]
        }
      ],
      "source": [
        "#Write Your Code Here\n",
        "DUPES_REMOVED = False\n",
        "\n",
        "# report/print duplicates.\n",
        "def confirm_duplicates(hasDupes, dupCount):\n",
        "    \"\"\"\n",
        "    Parameters\n",
        "    ----------\n",
        "    hasDupes : bool\n",
        "        Indicates if duplicates are present.\n",
        "    dupCount : int\n",
        "        The number of duplicates found.\n",
        "\n",
        "    Raises\n",
        "    ------\n",
        "    TypeError\n",
        "        If `hasDupes` is not a bool or `dupCount` is not an int.\n",
        "\n",
        "    Returns\n",
        "    -------\n",
        "    None\n",
        "    \"\"\"\n",
        "\n",
        "    if hasDupes:\n",
        "        print(f\"Duplicates were removed: {hasDupes}\")\n",
        "        print(f\"Total duplicates removed: {dupCount}\")\n",
        "    else:\n",
        "        print(\"Verified: No duplicates found.\")\n",
        "\n",
        "# Count the duplicates\n",
        "def data_duplicate_count(df):\n",
        "    \"\"\"\n",
        "    Count the number of duplicate rows in a pandas DataFrame.\n",
        "\n",
        "    Parameters\n",
        "    ----------\n",
        "    df : pandas.DataFrame\n",
        "        The DataFrame to check for duplicate rows.\n",
        "\n",
        "    Raises\n",
        "    ------\n",
        "    TypeError\n",
        "        If `df` is not a pandas DataFrame.\n",
        "\n",
        "    Returns\n",
        "    -------\n",
        "    int\n",
        "        The number of duplicate rows in the DataFrame.\n",
        "    \"\"\"\n",
        "    check_panda_frame(df, 'df')\n",
        "    return df.duplicated().sum()\n",
        "\n",
        "# Remove the duplicates\n",
        "def data_deduplicate_values(df):\n",
        "    \"\"\"\n",
        "    Remove duplicate rows from a pandas DataFrame and report on duplicates.\n",
        "\n",
        "    Parameters\n",
        "    ----------\n",
        "    df : pandas.DataFrame\n",
        "        The DataFrame from which to remove duplicate rows.\n",
        "\n",
        "    Raises\n",
        "    ------\n",
        "    TypeError\n",
        "        If `df` is not a pandas DataFrame.\n",
        "\n",
        "    Returns\n",
        "    -------\n",
        "    tuple\n",
        "        A tuple containing:\n",
        "        - pandas.DataFrame: The DataFrame with duplicates removed.\n",
        "        - bool: Whether duplicates existed in the original DataFrame.\n",
        "        - int: The number of duplicate rows found and removed.\n",
        "    \"\"\"\n",
        "    # Add test for dataframe\n",
        "    check_panda_frame(df, 'df')\n",
        "\n",
        "    # Count, Does exit?\n",
        "    dups_count = data_duplicate_count(df)\n",
        "    dups_exist = df.duplicated().any()\n",
        "\n",
        "    # Test and remove if existing.\n",
        "    if dups_exist:\n",
        "        print(f\"{dups_count} Duplicates found and will be removed.\")\n",
        "        df = df.drop_duplicates()\n",
        "    else:\n",
        "        print(\"Checked: No duplicates found.\")\n",
        "\n",
        "    return df, dups_exist, dups_count\n",
        "\n",
        "# Dedupped dataset, reuse t/l dataset variable.\n",
        "dataset, DUPES_REMOVE, dupes_sum = data_deduplicate_values(dataset)\n",
        "\n",
        "## Report if duplicates found.\n",
        "confirm_duplicates(DUPES_REMOVE, dupes_sum)"
      ]
    },
    {
      "cell_type": "markdown",
      "source": [
        "- [x] ✅ Data Deduped: 1081 removed"
      ],
      "metadata": {
        "id": "T0Uuo8FYVnkn"
      },
      "id": "T0Uuo8FYVnkn"
    },
    {
      "cell_type": "markdown",
      "id": "b5119181",
      "metadata": {
        "id": "b5119181"
      },
      "source": [
        "### Data Analysis"
      ]
    },
    {
      "cell_type": "markdown",
      "id": "5f9d6331",
      "metadata": {
        "id": "5f9d6331"
      },
      "source": [
        "Question 1: What is the percentage of fraud transactions in the dataset?\n",
        "\n"
      ]
    },
    {
      "cell_type": "code",
      "execution_count": 13,
      "id": "fc08822c",
      "metadata": {
        "id": "fc08822c",
        "outputId": "75d12c29-5297-43f2-df13-18afa038b199",
        "colab": {
          "base_uri": "https://localhost:8080/"
        }
      },
      "outputs": [
        {
          "output_type": "stream",
          "name": "stdout",
          "text": [
            "The percentage of fraud transactions in the dataset is: 0.17%\n"
          ]
        }
      ],
      "source": [
        "# Calculate the percentage of fraud transactions\n",
        "\n",
        "def calculate_fraud_percentage(df, BY_MEAN = True):\n",
        "    # Add test for dataframe\n",
        "    check_panda_frame(df, 'df')\n",
        "\n",
        "    COL_NAME = 'Class' # Classification fo Tranaction\n",
        "    FRAUD_FLAG = 1 # 0: No Fraud, 1: Fraud indicated.\n",
        "    PER_MARK = 100 # 100%\n",
        "    fraud_percentage = 0 # Initialize variable\n",
        "\n",
        "    if BY_MEAN:\n",
        "        # Calculate the percentage of fraud transactions by mean\n",
        "        fraud_percentage = (df[COL_NAME] == FRAUD_FLAG).mean() * PER_MARK\n",
        "    else:\n",
        "        # Calculate the percentage of fraud transactions by primitive method\n",
        "         fraud_percentage = (df[COL_NAME] == FRAUD_FLAG).sum() / len(df) * PER_MARK\n",
        "\n",
        "    return fraud_percentage\n",
        "\n",
        "# Capture the Fraud Percentage\n",
        "percentage_fraud = calculate_fraud_percentage(dataset)\n",
        "\n",
        "# Print the percentage of fraud transactions\n",
        "print(\"The percentage of fraud transactions in the dataset is: \"\n",
        "      + f\"{percentage_fraud:.2f}%\")\n"
      ]
    },
    {
      "cell_type": "markdown",
      "source": [
        "- [x] ✅Data Output: Percent Fraud: 0.17&"
      ],
      "metadata": {
        "id": "JApltY2lVvJE"
      },
      "id": "JApltY2lVvJE"
    },
    {
      "cell_type": "markdown",
      "id": "906ae755",
      "metadata": {
        "id": "906ae755"
      },
      "source": [
        "Question 2: What is the average transaction amount for fraud transactions?\n",
        "\n"
      ]
    },
    {
      "cell_type": "code",
      "execution_count": 14,
      "id": "38993dc8",
      "metadata": {
        "id": "38993dc8",
        "colab": {
          "base_uri": "https://localhost:8080/"
        },
        "outputId": "e53fc026-44f5-4d59-c6e8-6fc71b63478f"
      },
      "outputs": [
        {
          "output_type": "stream",
          "name": "stdout",
          "text": [
            "The average transaction amount for fraud transactions is: $123.87\n"
          ]
        }
      ],
      "source": [
        "# Calculate the average transaction amount for fraud transactions\n",
        "\n",
        "def fraud_data(df, flag_for_fraud=1):\n",
        "    # Add test for dataframe\n",
        "    check_panda_frame(df, 'df')\n",
        "\n",
        "    # Classification of Tranaction\n",
        "    CLASS_NAME = 'Class'\n",
        "    # Filter the data to get only the fraud transactions if 1, or O for non fraud.\n",
        "    return df[df[CLASS_NAME] == flag_for_fraud]\n",
        "\n",
        "def calculate_average_transaction_amount(df):\n",
        "    # Add test for dataframe\n",
        "    check_panda_frame(df, 'df')\n",
        "\n",
        "    # Transaction Column: Amount\n",
        "    AMT_NAME = 'Amount'\n",
        "    # Fraud Dataframe\n",
        "    fraud_df = fraud_data(df)\n",
        "\n",
        "    return fraud_df[AMT_NAME].mean()\n",
        "\n",
        "# Capture the average transaction amount for fraud transactions\n",
        "amount_fraud_average = calculate_average_transaction_amount(dataset)\n",
        "\n",
        "# Print the average transaction amount for fraud transactions\n",
        "print(\"The average transaction amount for fraud transactions is: \"\n",
        "      + f\"${amount_fraud_average:.2f}\")"
      ]
    },
    {
      "cell_type": "markdown",
      "source": [
        "- [x] ✅ Data Output: Average Amount : €123.87"
      ],
      "metadata": {
        "id": "5WdQukZLV7gw"
      },
      "id": "5WdQukZLV7gw"
    },
    {
      "cell_type": "markdown",
      "id": "4c947f70",
      "metadata": {
        "id": "4c947f70"
      },
      "source": [
        "### Data Visualization"
      ]
    },
    {
      "cell_type": "markdown",
      "id": "02753134",
      "metadata": {
        "id": "02753134"
      },
      "source": [
        "\n",
        "Question 1: How many fraud transactions are there compared to non-fraud transactions? (Using a bar plot)"
      ]
    },
    {
      "cell_type": "code",
      "execution_count": 15,
      "id": "65747ac7",
      "metadata": {
        "id": "65747ac7",
        "colab": {
          "base_uri": "https://localhost:8080/",
          "height": 559
        },
        "outputId": "1e282cb5-83e4-4884-e0ff-897abac3f597"
      },
      "outputs": [
        {
          "output_type": "display_data",
          "data": {
            "text/plain": [
              "<Figure size 640x480 with 1 Axes>"
            ],
            "image/png": "[encoded data removed]"
          },
          "metadata": {}
        },
        {
          "output_type": "stream",
          "name": "stdout",
          "text": [
            "\n",
            " The percentage of fraud transactions in the dataset is: 0.17%, \n",
            " which when compared to 250000+ transactions....,\n",
            " - is very small in the scaling fo bar graph: \n",
            " - Hint: in Fraud: Slim blue line\n"
          ]
        }
      ],
      "source": [
        "# Count the number of fraud and non-fraud transactions\n",
        "\n",
        "def count_transactions(df):\n",
        "    # Add test for dataframe\n",
        "    check_panda_frame(df, 'df')\n",
        "\n",
        "    return df['Class'].value_counts()\n",
        "\n",
        "def count_fraud_transactions(df):\n",
        "    # Add test for dataframe\n",
        "    if not isinstance(df, pd.DataFrame):\n",
        "        raise TypeError(\"Input must be a pandas DataFrame\")\n",
        "\n",
        "    # create a filtered fraud data frame\n",
        "    fraud_df = fraud_data(df)\n",
        "\n",
        "    return df['Class'].sum()\n",
        "\n",
        "# Plot the distribution of fraud transactions compared to non-fraud transactions\n",
        "def plot_transactions(df):\n",
        "    # Add test for dataframe\n",
        "    check_panda_frame(df, 'df')\n",
        "\n",
        "    tranactions_counts = count_transactions(df)\n",
        "\n",
        "    plt.bar(['Non-Fraud', 'Fraud'], tranactions_counts)\n",
        "    plt.xlabel('Transaction Class')\n",
        "    plt.ylabel('Number of Transactions')\n",
        "    plt.title('Fraud vs. Non-Fraud Transactions')\n",
        "    plt.show()\n",
        "\n",
        "# Capture the Fraud Percentage\n",
        "plot_transactions(dataset)\n",
        "# Print the percentage of fraud transactions\n",
        "print(\"\\n The percentage of fraud transactions in the dataset is: \"\n",
        "      + f\"{percentage_fraud:.2f}%, \\n which when compared to 250000+ transactions....,\\n - is very small in the scaling fo bar graph: \\n - Hint: in Fraud: Slim blue line\")"
      ]
    },
    {
      "cell_type": "markdown",
      "source": [
        "- [x] ✅ Data Output: 99.83% is Non Fraud, 0.17% is Fraud from over 250000+ transactions.\n",
        "- [x] ✅ Data Output: Hint: very slim bar graph in fraud"
      ],
      "metadata": {
        "id": "S_vGowIXWNo1"
      },
      "id": "S_vGowIXWNo1"
    },
    {
      "cell_type": "markdown",
      "id": "6a282afc",
      "metadata": {
        "id": "6a282afc"
      },
      "source": [
        "Question 2: What is the distribution of transaction amounts for fraud transactions? (Using a histogram)\n"
      ]
    },
    {
      "cell_type": "code",
      "execution_count": 16,
      "id": "97a8b8b2",
      "metadata": {
        "id": "97a8b8b2",
        "colab": {
          "base_uri": "https://localhost:8080/",
          "height": 541
        },
        "outputId": "30188b74-8edb-4b35-f5a3-a3df3c98f52c"
      },
      "outputs": [
        {
          "output_type": "display_data",
          "data": {
            "text/plain": [
              "<Figure size 640x480 with 1 Axes>"
            ],
            "image/png": "[encoded data removed]"
          },
          "metadata": {}
        },
        {
          "output_type": "stream",
          "name": "stdout",
          "text": [
            "\n",
            " The percentage of fraud transactions in the dataset is: 0.17%, \n",
            " As 473 compared to 250000+ transactions\n",
            "\n"
          ]
        }
      ],
      "source": [
        "# Separate the data for fraud transactions ammounts\n",
        "def separate_fraud_transactions(df,\n",
        "                                column_name=\"Amount\",\n",
        "                                hbins=50,\n",
        "                                edge='black'):\n",
        "    # Add test for dataframe\n",
        "    check_panda_frame(df, 'df')\n",
        "\n",
        "    # Test instances of each default parameter\n",
        "    if not isinstance(column_name, str) and column_name == \"Amount\":\n",
        "        raise TypeError(\"Input must be a string, named Amount\")\n",
        "\n",
        "    if not isinstance(hbins, int):\n",
        "        raise TypeError(\"Input must be an integer\")\n",
        "\n",
        "    if not isinstance(edge, str):\n",
        "        raise TypeError(\"Input must be a string\")\n",
        "\n",
        "    # create a filtered fraud data frame\n",
        "    fraud_df = fraud_data(df)\n",
        "\n",
        "    # Plot the histogram\n",
        "    plt.hist(fraud_df[column_name], bins=hbins, edgecolor=edge)\n",
        "    plt.xlabel('Transaction Amount')\n",
        "    plt.ylabel('Number of Transactions')\n",
        "    plt.title('Distribution of Transaction Amounts for Fraud Transactions')\n",
        "    plt.show()\n",
        "\n",
        "# Plot the distribution of transaction amounts for fraud transactions\n",
        "separate_fraud_transactions(dataset)\n",
        "\n",
        "# Print the percentage of fraud transactions\n",
        "print(f\"\\n The percentage of fraud transactions in the dataset is: \"\n",
        "      + f\"{percentage_fraud:.2f}%, \\n \"\n",
        "      + f\"As {count_fraud_transactions(dataset)} compared to 250000+ transactions\\n\")"
      ]
    },
    {
      "cell_type": "markdown",
      "source": [
        "- [x] ✅ Data Output: Histogram shows propensity of fraud are very low amounts.\n",
        "- [x] ✅ Data Output: Very few long tail of amounts are larger that €500 per transaction."
      ],
      "metadata": {
        "id": "Q866cn89WnqU"
      },
      "id": "Q866cn89WnqU"
    },
    {
      "cell_type": "markdown",
      "id": "8e330fde",
      "metadata": {
        "id": "8e330fde"
      },
      "source": [
        "### Model Development & Evaluation"
      ]
    },
    {
      "cell_type": "markdown",
      "id": "3199958a",
      "metadata": {
        "id": "3199958a"
      },
      "source": [
        "### Splitting Dataset"
      ]
    },
    {
      "cell_type": "code",
      "execution_count": 17,
      "id": "5c16e87f",
      "metadata": {
        "id": "5c16e87f"
      },
      "outputs": [],
      "source": [
        "# Split training and testing data\n",
        "\n",
        "from sklearn.model_selection import train_test_split\n",
        "from sklearn.preprocessing import StandardScaler\n",
        "\n",
        "CLASSIFICATION = 'Class'\n",
        "scaler = StandardScaler()\n",
        "\n",
        "def split_data(df, column=\"Class\", X_axis=1,\n",
        "                    size_test=0.2, state_random=42):\n",
        "    \"\"\"\n",
        "    Split dataset into training and testing sets:\n",
        "    - for model development and evaluation.\n",
        "    - using a feature matrix and a target variable.\n",
        "    - to prevent overfitting.\n",
        "\n",
        "    Parameters\n",
        "    ----------\n",
        "    df : pandas.DataFrame\n",
        "        The DataFrame to split.\n",
        "    column: str\n",
        "        The name of the column to use as the target variable.\n",
        "    X_axis: int\n",
        "        The index of the column to use as the feature matrix.\n",
        "    size_test: float\n",
        "        The proportion of the dataset to include in the test split.\n",
        "    state_random: int\n",
        "        The seed used by the random number generator.\n",
        "\n",
        "    Raises\n",
        "    ------\n",
        "    TypeError\n",
        "        If `df` is not a pandas DataFrame.\n",
        "    TypeError\n",
        "        If `column` is not a string and column name is not 'Class'.\n",
        "    TypeError\n",
        "        If `X_axis` is not an integer.\n",
        "    TypeError\n",
        "        If `size_test` is not a float.\n",
        "    TypeError\n",
        "        If `state_random` is not an integer.\n",
        "\n",
        "    Returns\n",
        "    -------\n",
        "    tuple\n",
        "        A tuple containing:\n",
        "        - train_X : pandas.DataFrame\n",
        "            The training set of the feature matrix.\n",
        "        - test_X : pandas.DataFrame\n",
        "            The testing set of the feature matrix.\n",
        "        - train_y : pandas.Series or pandas.DataFrame\n",
        "            The training set of the target variable.\n",
        "        - test_y : pandas.Series or pandas.DataFrame\n",
        "            The testing set of the target variable\n",
        "\n",
        "    \"\"\"\n",
        "\n",
        "    # Add test for dataframe\n",
        "    check_panda_frame(df, 'df')\n",
        "\n",
        "    # Test instances of default args.\n",
        "    if not isinstance(column, str) and column == CLASSIFICATION:\n",
        "        raise TypeError(\"Input must be a string, NAME: Class\")\n",
        "\n",
        "    if not isinstance(X_axis, int):\n",
        "        raise TypeError(\"Input must be an integer\")\n",
        "\n",
        "    if not isinstance(size_test, float):\n",
        "        raise TypeError(\"Input must be a float\")\n",
        "\n",
        "    if not isinstance(state_random, int):\n",
        "        raise TypeError(\"Input must be an integer\")\n",
        "\n",
        "    # Data Containers\n",
        "    X = dataset.drop(column, axis=X_axis)\n",
        "    y = dataset[column]\n",
        "    x = scaler.fit_transform(X)\n",
        "\n",
        "    # Tuple of X & Y train and test data sets\n",
        "    # Tolerances of default 0.2 size, 42 state randomness\n",
        "    train_X, test_X, train_y, test_y = \\\n",
        "            train_test_split(X, y,\n",
        "                            test_size=size_test,\n",
        "                            random_state=state_random)\n",
        "    # Return the tuple.\n",
        "    return train_X, test_X, train_y, test_y"
      ]
    },
    {
      "cell_type": "markdown",
      "source": [
        "- [x] ✅ Data Output: dataset is split, on the basis of\n",
        "  - `Class` column and\n",
        "  - axis `1` for feature matrix.\n",
        "  - `0.2` proporation is split for testing\n",
        "  - Random generation seed of `0.42`.\n",
        "- [x] ✅ Data Output: Returns a tuple of four panda data containers."
      ],
      "metadata": {
        "id": "VYh0QC99XBLm"
      },
      "id": "VYh0QC99XBLm"
    },
    {
      "cell_type": "markdown",
      "id": "8721f8dc",
      "metadata": {
        "id": "8721f8dc"
      },
      "source": [
        "### Modeling & Evaluation"
      ]
    },
    {
      "cell_type": "markdown",
      "source": [
        "### Algoritm Selection\n",
        "\n",
        "- Approach: Classification\n",
        "- Used: SciKeit Learn: Ensemble ML algorithims\n",
        "- Random Forest Classifier\n",
        "    - An ensemble machine learning algorithm\n",
        "    - Aims to build muiple decisions trees\n",
        "    - Combines Output to make a final prediction\n",
        "    - Each decision tree is a \"forest\"  is trained on a random subset of data & features\n",
        "    - This helps improve the model;s accuracy and robustness."
      ],
      "metadata": {
        "id": "qYHsKGkWpNkN"
      },
      "id": "qYHsKGkWpNkN"
    },
    {
      "cell_type": "code",
      "execution_count": 18,
      "id": "496d2812",
      "metadata": {
        "id": "496d2812"
      },
      "outputs": [],
      "source": [
        "#Create a Random Forest (Decision Tree) algorithm.\n",
        "\n",
        "from sklearn.ensemble import RandomForestClassifier\n",
        "from sklearn.metrics import classification_report, confusion_matrix, accuracy_score\n",
        "import numpy as np\n",
        "\n",
        "model_rfc = RandomForestClassifier()\n",
        "\n",
        "def ensemble_random_forest_classifier(model, trainX, trainY, testX, testY):\n",
        "    \"\"\"\n",
        "    Trains a Random Forest Classifier and evaluates its performance.\n",
        "\n",
        "    Parameters\n",
        "    ----------\n",
        "    model : RandomForestClassifier\n",
        "        An instance of RandomForestClassifier from sklearn.\n",
        "\n",
        "    trainX : pandas.DataFrame\n",
        "        The training data features.\n",
        "\n",
        "    testX : pandas.DataFrame\n",
        "        The testing data features.\n",
        "\n",
        "    trainY : pandas.Series or pandas.DataFrame\n",
        "        The training data labels.\n",
        "\n",
        "    testY : pandas.Series or pandas.DataFrame\n",
        "        The testing data labels.\n",
        "\n",
        "    Returns\n",
        "    -------\n",
        "    train_x_to_y : float\n",
        "        The accuracy score of the model on the training data.\n",
        "\n",
        "    test_x_to_y : float\n",
        "        The accuracy score of the model on the testing data.\n",
        "\n",
        "    y_predict : numpy.ndarray\n",
        "        The predicted labels for the test data.\n",
        "\n",
        "    report : str\n",
        "        A classification summary of the model's performance.\n",
        "\n",
        "    Raises\n",
        "    ------\n",
        "    TypeError\n",
        "        If the model is not an instance of RandomForestClassifier.\n",
        "    \"\"\"\n",
        "    # Ensure the model is a RandomForestClassifier\n",
        "    if not isinstance(model, RandomForestClassifier):\n",
        "        raise TypeError(\"Input must be a RandomForestClassifier\")\n",
        "\n",
        "    # Check types of the model datasets: type error\n",
        "    check_panda_frame(trainX, \"trainX\")\n",
        "    check_panda_type(trainY, \"trainY\")\n",
        "    check_panda_frame(testX, \"testX\")\n",
        "    check_panda_type(testY, \"testY\")\n",
        "\n",
        "    # Fit the model to the training data\n",
        "    model.fit(trainX, trainY)\n",
        "\n",
        "    # -- Testing --\n",
        "    # Print: accuracy of the model on the training data\n",
        "    print(model.score(trainX, trainY))\n",
        "\n",
        "    # -- Testing --\n",
        "    # Print the accuracy score of the model on the testing data\n",
        "    print(model.score(testX, testY))\n",
        "\n",
        "    # -- Prediction --\n",
        "    # Predict the labels for the test data\n",
        "    y_predict = model.predict(testX)\n",
        "\n",
        "    # -- Report --\n",
        "    # Generate the classification report\n",
        "    #report = classification_report(testY, y_predict)\n",
        "\n",
        "    #return train_accuracy, test_accuracy, y_predict, report\n",
        "    return y_predict, testY\n"
      ]
    },
    {
      "cell_type": "code",
      "source": [
        "\n",
        "# Split the data into training and testing sets\n",
        "X_train, X_test, y_train, y_test = split_data(dataset)\n",
        "\n",
        "# Verify the shapes of the resulting splits\n",
        "print(\"Shape of X_train:\", X_train.shape)\n",
        "print(\"Shape of y_train:\", y_train.shape)\n",
        "print(\"Shape of X_test:\", X_test.shape)\n",
        "print(\"Shape of y_test:\", y_test.shape)\n",
        "\n",
        "# train_accuracy, test_accuracy, y_predict, report = ensemble_random_forest_classifier(model_rfc, X_train, X_test,  X_test, y_test)\n",
        "\n",
        "# print(\"Classification Report:\\n\", report)"
      ],
      "metadata": {
        "colab": {
          "base_uri": "https://localhost:8080/"
        },
        "id": "M5UZhnLkZVUN",
        "outputId": "323ba156-cc50-4479-fc14-00841fee83b3"
      },
      "id": "M5UZhnLkZVUN",
      "execution_count": 19,
      "outputs": [
        {
          "output_type": "stream",
          "name": "stdout",
          "text": [
            "Shape of X_train: (226980, 30)\n",
            "Shape of y_train: (226980,)\n",
            "Shape of X_test: (56746, 30)\n",
            "Shape of y_test: (56746,)\n"
          ]
        }
      ]
    },
    {
      "cell_type": "markdown",
      "source": [
        "- [x] ✅ Data Output: Data Frams of  X_train and y_train match."
      ],
      "metadata": {
        "id": "7v_QHNB-bIso"
      },
      "id": "7v_QHNB-bIso"
    },
    {
      "cell_type": "markdown",
      "source": [
        "### Classification, Confusion"
      ],
      "metadata": {
        "id": "oPs20x57YKO2"
      },
      "id": "oPs20x57YKO2"
    },
    {
      "cell_type": "code",
      "source": [
        "y_predict, testY = ensemble_random_forest_classifier(model_rfc, X_train, y_train, X_test, y_test)\n",
        "\n",
        "# print(\"Classification Report:\\n\", report)"
      ],
      "metadata": {
        "colab": {
          "base_uri": "https://localhost:8080/",
          "height": 339
        },
        "id": "6SuqcC1Kb0sx",
        "outputId": "c43fe70e-6d81-4878-90b7-7a2cf73a8a90"
      },
      "id": "6SuqcC1Kb0sx",
      "execution_count": 20,
      "outputs": [
        {
          "output_type": "error",
          "ename": "KeyboardInterrupt",
          "evalue": "",
          "traceback": [
            "\u001b[0;31m---------------------------------------------------------------------------\u001b[0m",
            "\u001b[0;31mKeyboardInterrupt\u001b[0m                         Traceback (most recent call last)",
            "\u001b[0;32m<ipython-input-20-42de9834e8cf>\u001b[0m in \u001b[0;36m<cell line: 1>\u001b[0;34m()\u001b[0m\n\u001b[0;32m----> 1\u001b[0;31m \u001b[0my_predict\u001b[0m\u001b[0;34m,\u001b[0m \u001b[0mreport\u001b[0m \u001b[0;34m=\u001b[0m \u001b[0mensemble_random_forest_classifier\u001b[0m\u001b[0;34m(\u001b[0m\u001b[0mmodel_rfc\u001b[0m\u001b[0;34m,\u001b[0m \u001b[0mX_train\u001b[0m\u001b[0;34m,\u001b[0m \u001b[0my_train\u001b[0m\u001b[0;34m,\u001b[0m \u001b[0mX_test\u001b[0m\u001b[0;34m,\u001b[0m \u001b[0my_test\u001b[0m\u001b[0;34m)\u001b[0m\u001b[0;34m\u001b[0m\u001b[0;34m\u001b[0m\u001b[0m\n\u001b[0m\u001b[1;32m      2\u001b[0m \u001b[0;34m\u001b[0m\u001b[0m\n\u001b[1;32m      3\u001b[0m \u001b[0mprint\u001b[0m\u001b[0;34m(\u001b[0m\u001b[0;34m\"Classification Report:\\n\"\u001b[0m\u001b[0;34m,\u001b[0m \u001b[0mreport\u001b[0m\u001b[0;34m)\u001b[0m\u001b[0;34m\u001b[0m\u001b[0;34m\u001b[0m\u001b[0m\n",
            "\u001b[0;32m<ipython-input-18-7ae495e8c570>\u001b[0m in \u001b[0;36mensemble_random_forest_classifier\u001b[0;34m(model, trainX, trainY, testX, testY)\u001b[0m\n\u001b[1;32m     56\u001b[0m \u001b[0;34m\u001b[0m\u001b[0m\n\u001b[1;32m     57\u001b[0m     \u001b[0;31m# Fit the model to the training data\u001b[0m\u001b[0;34m\u001b[0m\u001b[0;34m\u001b[0m\u001b[0m\n\u001b[0;32m---> 58\u001b[0;31m     \u001b[0mmodel\u001b[0m\u001b[0;34m.\u001b[0m\u001b[0mfit\u001b[0m\u001b[0;34m(\u001b[0m\u001b[0mtrainX\u001b[0m\u001b[0;34m,\u001b[0m \u001b[0mtrainY\u001b[0m\u001b[0;34m)\u001b[0m\u001b[0;34m\u001b[0m\u001b[0;34m\u001b[0m\u001b[0m\n\u001b[0m\u001b[1;32m     59\u001b[0m \u001b[0;34m\u001b[0m\u001b[0m\n\u001b[1;32m     60\u001b[0m     \u001b[0;31m# -- Testing --\u001b[0m\u001b[0;34m\u001b[0m\u001b[0;34m\u001b[0m\u001b[0m\n",
            "\u001b[0;32m/usr/local/lib/python3.10/dist-packages/sklearn/base.py\u001b[0m in \u001b[0;36mwrapper\u001b[0;34m(estimator, *args, **kwargs)\u001b[0m\n\u001b[1;32m   1150\u001b[0m                 )\n\u001b[1;32m   1151\u001b[0m             ):\n\u001b[0;32m-> 1152\u001b[0;31m                 \u001b[0;32mreturn\u001b[0m \u001b[0mfit_method\u001b[0m\u001b[0;34m(\u001b[0m\u001b[0mestimator\u001b[0m\u001b[0;34m,\u001b[0m \u001b[0;34m*\u001b[0m\u001b[0margs\u001b[0m\u001b[0;34m,\u001b[0m \u001b[0;34m**\u001b[0m\u001b[0mkwargs\u001b[0m\u001b[0;34m)\u001b[0m\u001b[0;34m\u001b[0m\u001b[0;34m\u001b[0m\u001b[0m\n\u001b[0m\u001b[1;32m   1153\u001b[0m \u001b[0;34m\u001b[0m\u001b[0m\n\u001b[1;32m   1154\u001b[0m         \u001b[0;32mreturn\u001b[0m \u001b[0mwrapper\u001b[0m\u001b[0;34m\u001b[0m\u001b[0;34m\u001b[0m\u001b[0m\n",
            "\u001b[0;32m/usr/local/lib/python3.10/dist-packages/sklearn/ensemble/_forest.py\u001b[0m in \u001b[0;36mfit\u001b[0;34m(self, X, y, sample_weight)\u001b[0m\n\u001b[1;32m    454\u001b[0m             \u001b[0;31m# parallel_backend contexts set at a higher level,\u001b[0m\u001b[0;34m\u001b[0m\u001b[0;34m\u001b[0m\u001b[0m\n\u001b[1;32m    455\u001b[0m             \u001b[0;31m# since correctness does not rely on using threads.\u001b[0m\u001b[0;34m\u001b[0m\u001b[0;34m\u001b[0m\u001b[0m\n\u001b[0;32m--> 456\u001b[0;31m             trees = Parallel(\n\u001b[0m\u001b[1;32m    457\u001b[0m                 \u001b[0mn_jobs\u001b[0m\u001b[0;34m=\u001b[0m\u001b[0mself\u001b[0m\u001b[0;34m.\u001b[0m\u001b[0mn_jobs\u001b[0m\u001b[0;34m,\u001b[0m\u001b[0;34m\u001b[0m\u001b[0;34m\u001b[0m\u001b[0m\n\u001b[1;32m    458\u001b[0m                 \u001b[0mverbose\u001b[0m\u001b[0;34m=\u001b[0m\u001b[0mself\u001b[0m\u001b[0;34m.\u001b[0m\u001b[0mverbose\u001b[0m\u001b[0;34m,\u001b[0m\u001b[0;34m\u001b[0m\u001b[0;34m\u001b[0m\u001b[0m\n",
            "\u001b[0;32m/usr/local/lib/python3.10/dist-packages/sklearn/utils/parallel.py\u001b[0m in \u001b[0;36m__call__\u001b[0;34m(self, iterable)\u001b[0m\n\u001b[1;32m     63\u001b[0m             \u001b[0;32mfor\u001b[0m \u001b[0mdelayed_func\u001b[0m\u001b[0;34m,\u001b[0m \u001b[0margs\u001b[0m\u001b[0;34m,\u001b[0m \u001b[0mkwargs\u001b[0m \u001b[0;32min\u001b[0m \u001b[0miterable\u001b[0m\u001b[0;34m\u001b[0m\u001b[0;34m\u001b[0m\u001b[0m\n\u001b[1;32m     64\u001b[0m         )\n\u001b[0;32m---> 65\u001b[0;31m         \u001b[0;32mreturn\u001b[0m \u001b[0msuper\u001b[0m\u001b[0;34m(\u001b[0m\u001b[0;34m)\u001b[0m\u001b[0;34m.\u001b[0m\u001b[0m__call__\u001b[0m\u001b[0;34m(\u001b[0m\u001b[0miterable_with_config\u001b[0m\u001b[0;34m)\u001b[0m\u001b[0;34m\u001b[0m\u001b[0;34m\u001b[0m\u001b[0m\n\u001b[0m\u001b[1;32m     66\u001b[0m \u001b[0;34m\u001b[0m\u001b[0m\n\u001b[1;32m     67\u001b[0m \u001b[0;34m\u001b[0m\u001b[0m\n",
            "\u001b[0;32m/usr/local/lib/python3.10/dist-packages/joblib/parallel.py\u001b[0m in \u001b[0;36m__call__\u001b[0;34m(self, iterable)\u001b[0m\n\u001b[1;32m   1916\u001b[0m             \u001b[0moutput\u001b[0m \u001b[0;34m=\u001b[0m \u001b[0mself\u001b[0m\u001b[0;34m.\u001b[0m\u001b[0m_get_sequential_output\u001b[0m\u001b[0;34m(\u001b[0m\u001b[0miterable\u001b[0m\u001b[0;34m)\u001b[0m\u001b[0;34m\u001b[0m\u001b[0;34m\u001b[0m\u001b[0m\n\u001b[1;32m   1917\u001b[0m             \u001b[0mnext\u001b[0m\u001b[0;34m(\u001b[0m\u001b[0moutput\u001b[0m\u001b[0;34m)\u001b[0m\u001b[0;34m\u001b[0m\u001b[0;34m\u001b[0m\u001b[0m\n\u001b[0;32m-> 1918\u001b[0;31m             \u001b[0;32mreturn\u001b[0m \u001b[0moutput\u001b[0m \u001b[0;32mif\u001b[0m \u001b[0mself\u001b[0m\u001b[0;34m.\u001b[0m\u001b[0mreturn_generator\u001b[0m \u001b[0;32melse\u001b[0m \u001b[0mlist\u001b[0m\u001b[0;34m(\u001b[0m\u001b[0moutput\u001b[0m\u001b[0;34m)\u001b[0m\u001b[0;34m\u001b[0m\u001b[0;34m\u001b[0m\u001b[0m\n\u001b[0m\u001b[1;32m   1919\u001b[0m \u001b[0;34m\u001b[0m\u001b[0m\n\u001b[1;32m   1920\u001b[0m         \u001b[0;31m# Let's create an ID that uniquely identifies the current call. If the\u001b[0m\u001b[0;34m\u001b[0m\u001b[0;34m\u001b[0m\u001b[0m\n",
            "\u001b[0;32m/usr/local/lib/python3.10/dist-packages/joblib/parallel.py\u001b[0m in \u001b[0;36m_get_sequential_output\u001b[0;34m(self, iterable)\u001b[0m\n\u001b[1;32m   1845\u001b[0m                 \u001b[0mself\u001b[0m\u001b[0;34m.\u001b[0m\u001b[0mn_dispatched_batches\u001b[0m \u001b[0;34m+=\u001b[0m \u001b[0;36m1\u001b[0m\u001b[0;34m\u001b[0m\u001b[0;34m\u001b[0m\u001b[0m\n\u001b[1;32m   1846\u001b[0m                 \u001b[0mself\u001b[0m\u001b[0;34m.\u001b[0m\u001b[0mn_dispatched_tasks\u001b[0m \u001b[0;34m+=\u001b[0m \u001b[0;36m1\u001b[0m\u001b[0;34m\u001b[0m\u001b[0;34m\u001b[0m\u001b[0m\n\u001b[0;32m-> 1847\u001b[0;31m                 \u001b[0mres\u001b[0m \u001b[0;34m=\u001b[0m \u001b[0mfunc\u001b[0m\u001b[0;34m(\u001b[0m\u001b[0;34m*\u001b[0m\u001b[0margs\u001b[0m\u001b[0;34m,\u001b[0m \u001b[0;34m**\u001b[0m\u001b[0mkwargs\u001b[0m\u001b[0;34m)\u001b[0m\u001b[0;34m\u001b[0m\u001b[0;34m\u001b[0m\u001b[0m\n\u001b[0m\u001b[1;32m   1848\u001b[0m                 \u001b[0mself\u001b[0m\u001b[0;34m.\u001b[0m\u001b[0mn_completed_tasks\u001b[0m \u001b[0;34m+=\u001b[0m \u001b[0;36m1\u001b[0m\u001b[0;34m\u001b[0m\u001b[0;34m\u001b[0m\u001b[0m\n\u001b[1;32m   1849\u001b[0m                 \u001b[0mself\u001b[0m\u001b[0;34m.\u001b[0m\u001b[0mprint_progress\u001b[0m\u001b[0;34m(\u001b[0m\u001b[0;34m)\u001b[0m\u001b[0;34m\u001b[0m\u001b[0;34m\u001b[0m\u001b[0m\n",
            "\u001b[0;32m/usr/local/lib/python3.10/dist-packages/sklearn/utils/parallel.py\u001b[0m in \u001b[0;36m__call__\u001b[0;34m(self, *args, **kwargs)\u001b[0m\n\u001b[1;32m    125\u001b[0m             \u001b[0mconfig\u001b[0m \u001b[0;34m=\u001b[0m \u001b[0;34m{\u001b[0m\u001b[0;34m}\u001b[0m\u001b[0;34m\u001b[0m\u001b[0;34m\u001b[0m\u001b[0m\n\u001b[1;32m    126\u001b[0m         \u001b[0;32mwith\u001b[0m \u001b[0mconfig_context\u001b[0m\u001b[0;34m(\u001b[0m\u001b[0;34m**\u001b[0m\u001b[0mconfig\u001b[0m\u001b[0;34m)\u001b[0m\u001b[0;34m:\u001b[0m\u001b[0;34m\u001b[0m\u001b[0;34m\u001b[0m\u001b[0m\n\u001b[0;32m--> 127\u001b[0;31m             \u001b[0;32mreturn\u001b[0m \u001b[0mself\u001b[0m\u001b[0;34m.\u001b[0m\u001b[0mfunction\u001b[0m\u001b[0;34m(\u001b[0m\u001b[0;34m*\u001b[0m\u001b[0margs\u001b[0m\u001b[0;34m,\u001b[0m \u001b[0;34m**\u001b[0m\u001b[0mkwargs\u001b[0m\u001b[0;34m)\u001b[0m\u001b[0;34m\u001b[0m\u001b[0;34m\u001b[0m\u001b[0m\n\u001b[0m",
            "\u001b[0;32m/usr/local/lib/python3.10/dist-packages/sklearn/ensemble/_forest.py\u001b[0m in \u001b[0;36m_parallel_build_trees\u001b[0;34m(tree, bootstrap, X, y, sample_weight, tree_idx, n_trees, verbose, class_weight, n_samples_bootstrap)\u001b[0m\n\u001b[1;32m    186\u001b[0m             \u001b[0mcurr_sample_weight\u001b[0m \u001b[0;34m*=\u001b[0m \u001b[0mcompute_sample_weight\u001b[0m\u001b[0;34m(\u001b[0m\u001b[0;34m\"balanced\"\u001b[0m\u001b[0;34m,\u001b[0m \u001b[0my\u001b[0m\u001b[0;34m,\u001b[0m \u001b[0mindices\u001b[0m\u001b[0;34m=\u001b[0m\u001b[0mindices\u001b[0m\u001b[0;34m)\u001b[0m\u001b[0;34m\u001b[0m\u001b[0;34m\u001b[0m\u001b[0m\n\u001b[1;32m    187\u001b[0m \u001b[0;34m\u001b[0m\u001b[0m\n\u001b[0;32m--> 188\u001b[0;31m         \u001b[0mtree\u001b[0m\u001b[0;34m.\u001b[0m\u001b[0mfit\u001b[0m\u001b[0;34m(\u001b[0m\u001b[0mX\u001b[0m\u001b[0;34m,\u001b[0m \u001b[0my\u001b[0m\u001b[0;34m,\u001b[0m \u001b[0msample_weight\u001b[0m\u001b[0;34m=\u001b[0m\u001b[0mcurr_sample_weight\u001b[0m\u001b[0;34m,\u001b[0m \u001b[0mcheck_input\u001b[0m\u001b[0;34m=\u001b[0m\u001b[0;32mFalse\u001b[0m\u001b[0;34m)\u001b[0m\u001b[0;34m\u001b[0m\u001b[0;34m\u001b[0m\u001b[0m\n\u001b[0m\u001b[1;32m    189\u001b[0m     \u001b[0;32melse\u001b[0m\u001b[0;34m:\u001b[0m\u001b[0;34m\u001b[0m\u001b[0;34m\u001b[0m\u001b[0m\n\u001b[1;32m    190\u001b[0m         \u001b[0mtree\u001b[0m\u001b[0;34m.\u001b[0m\u001b[0mfit\u001b[0m\u001b[0;34m(\u001b[0m\u001b[0mX\u001b[0m\u001b[0;34m,\u001b[0m \u001b[0my\u001b[0m\u001b[0;34m,\u001b[0m \u001b[0msample_weight\u001b[0m\u001b[0;34m=\u001b[0m\u001b[0msample_weight\u001b[0m\u001b[0;34m,\u001b[0m \u001b[0mcheck_input\u001b[0m\u001b[0;34m=\u001b[0m\u001b[0;32mFalse\u001b[0m\u001b[0;34m)\u001b[0m\u001b[0;34m\u001b[0m\u001b[0;34m\u001b[0m\u001b[0m\n",
            "\u001b[0;32m/usr/local/lib/python3.10/dist-packages/sklearn/base.py\u001b[0m in \u001b[0;36mwrapper\u001b[0;34m(estimator, *args, **kwargs)\u001b[0m\n\u001b[1;32m   1150\u001b[0m                 )\n\u001b[1;32m   1151\u001b[0m             ):\n\u001b[0;32m-> 1152\u001b[0;31m                 \u001b[0;32mreturn\u001b[0m \u001b[0mfit_method\u001b[0m\u001b[0;34m(\u001b[0m\u001b[0mestimator\u001b[0m\u001b[0;34m,\u001b[0m \u001b[0;34m*\u001b[0m\u001b[0margs\u001b[0m\u001b[0;34m,\u001b[0m \u001b[0;34m**\u001b[0m\u001b[0mkwargs\u001b[0m\u001b[0;34m)\u001b[0m\u001b[0;34m\u001b[0m\u001b[0;34m\u001b[0m\u001b[0m\n\u001b[0m\u001b[1;32m   1153\u001b[0m \u001b[0;34m\u001b[0m\u001b[0m\n\u001b[1;32m   1154\u001b[0m         \u001b[0;32mreturn\u001b[0m \u001b[0mwrapper\u001b[0m\u001b[0;34m\u001b[0m\u001b[0;34m\u001b[0m\u001b[0m\n",
            "\u001b[0;32m/usr/local/lib/python3.10/dist-packages/sklearn/tree/_classes.py\u001b[0m in \u001b[0;36mfit\u001b[0;34m(self, X, y, sample_weight, check_input)\u001b[0m\n\u001b[1;32m    957\u001b[0m         \"\"\"\n\u001b[1;32m    958\u001b[0m \u001b[0;34m\u001b[0m\u001b[0m\n\u001b[0;32m--> 959\u001b[0;31m         super()._fit(\n\u001b[0m\u001b[1;32m    960\u001b[0m             \u001b[0mX\u001b[0m\u001b[0;34m,\u001b[0m\u001b[0;34m\u001b[0m\u001b[0;34m\u001b[0m\u001b[0m\n\u001b[1;32m    961\u001b[0m             \u001b[0my\u001b[0m\u001b[0;34m,\u001b[0m\u001b[0;34m\u001b[0m\u001b[0;34m\u001b[0m\u001b[0m\n",
            "\u001b[0;32m/usr/local/lib/python3.10/dist-packages/sklearn/tree/_classes.py\u001b[0m in \u001b[0;36m_fit\u001b[0;34m(self, X, y, sample_weight, check_input, missing_values_in_feature_mask)\u001b[0m\n\u001b[1;32m    441\u001b[0m             )\n\u001b[1;32m    442\u001b[0m \u001b[0;34m\u001b[0m\u001b[0m\n\u001b[0;32m--> 443\u001b[0;31m         \u001b[0mbuilder\u001b[0m\u001b[0;34m.\u001b[0m\u001b[0mbuild\u001b[0m\u001b[0;34m(\u001b[0m\u001b[0mself\u001b[0m\u001b[0;34m.\u001b[0m\u001b[0mtree_\u001b[0m\u001b[0;34m,\u001b[0m \u001b[0mX\u001b[0m\u001b[0;34m,\u001b[0m \u001b[0my\u001b[0m\u001b[0;34m,\u001b[0m \u001b[0msample_weight\u001b[0m\u001b[0;34m,\u001b[0m \u001b[0mmissing_values_in_feature_mask\u001b[0m\u001b[0;34m)\u001b[0m\u001b[0;34m\u001b[0m\u001b[0;34m\u001b[0m\u001b[0m\n\u001b[0m\u001b[1;32m    444\u001b[0m \u001b[0;34m\u001b[0m\u001b[0m\n\u001b[1;32m    445\u001b[0m         \u001b[0;32mif\u001b[0m \u001b[0mself\u001b[0m\u001b[0;34m.\u001b[0m\u001b[0mn_outputs_\u001b[0m \u001b[0;34m==\u001b[0m \u001b[0;36m1\u001b[0m \u001b[0;32mand\u001b[0m \u001b[0mis_classifier\u001b[0m\u001b[0;34m(\u001b[0m\u001b[0mself\u001b[0m\u001b[0;34m)\u001b[0m\u001b[0;34m:\u001b[0m\u001b[0;34m\u001b[0m\u001b[0;34m\u001b[0m\u001b[0m\n",
            "\u001b[0;31mKeyboardInterrupt\u001b[0m: "
          ]
        }
      ]
    },
    {
      "cell_type": "markdown",
      "id": "97a9d4ce",
      "metadata": {
        "id": "97a9d4ce"
      },
      "source": [
        "<details><summary><b>Click Here for the Hint</b></summary>\n",
        "\n",
        "\n",
        "\n",
        "```\n",
        "You need to have imported the necessary libraries and classes, such as the RandomForestClassifier class from scikit-learn and the classification_report() and accuracy_score() functions from the sklearn.metrics module.\n",
        "\n",
        "Once you have done this, you can create an instance of the RandomForestClassifier class, setting the max_depth hyperparameter to 150 and the random_state hyperparameter to 42. You can then train the model on the training data using the .fit() method.\n",
        "\n",
        "Next, you can use the trained model to make predictions on the testing data using the .predict() method. You can store these predictions in a variable called y_pred.\n",
        "\n",
        "Then, you can use the classification_report() function to print out a summary of the model's performance on the testing data. This will include metrics such as precision, recall, and F1 score for each class (in this case, whether a credit card transaction is fraud or not). You can also use the accuracy_score() function to calculate and print the overall accuracy of the model on the testing data.\n",
        "\n",
        "Finally, you can print out the accuracy of the model in percentage form, using the *100 operator to multiply the accuracy score by 100.\n",
        "\n",
        "```\n",
        "\n",
        "\n",
        "\n",
        "</details>"
      ]
    }
  ],
  "metadata": {
    "kernelspec": {
      "display_name": "Python 3 (ipykernel)",
      "language": "python",
      "name": "python3"
    },
    "language_info": {
      "codemirror_mode": {
        "name": "ipython",
        "version": 3
      },
      "file_extension": ".py",
      "mimetype": "text/x-python",
      "name": "python",
      "nbconvert_exporter": "python",
      "pygments_lexer": "ipython3",
      "version": "3.11.7"
    },
    "colab": {
      "provenance": [],
      "include_colab_link": true
    }
  },
  "nbformat": 4,
  "nbformat_minor": 5
}