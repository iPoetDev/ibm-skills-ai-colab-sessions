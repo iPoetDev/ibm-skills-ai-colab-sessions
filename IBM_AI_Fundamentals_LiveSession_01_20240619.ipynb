{
  "nbformat": 4,
  "nbformat_minor": 0,
  "metadata": {
    "colab": {
      "provenance": [],
      "authorship_tag": "ABX9TyNcNdYpj0CuP4Ud4SyUa1+7",
      "include_colab_link": true
    },
    "kernelspec": {
      "name": "python3",
      "display_name": "Python 3"
    },
    "language_info": {
      "name": "python"
    }
  },
  "cells": [
    {
      "cell_type": "markdown",
      "metadata": {
        "id": "view-in-github",
        "colab_type": "text"
      },
      "source": [
        "<a href=\"https://colab.research.google.com/github/iPoetDev/ibm-skills-ai-colab-sessions/blob/main/IBM_AI_Fundamentals_LiveSession_01_20240619.ipynb\" target=\"_parent\"><img src=\"https://colab.research.google.com/assets/colab-badge.svg\" alt=\"Open In Colab\"/></a>"
      ]
    },
    {
      "cell_type": "code",
      "execution_count": null,
      "metadata": {
        "id": "CNETb6wVy81i"
      },
      "outputs": [],
      "source": []
    },
    {
      "cell_type": "markdown",
      "source": [
        "# Live Session\n",
        "\n",
        "\n",
        "\n",
        "## Kata\n",
        "\n",
        "> Create a program that takes a list of students names, grades so to calculate grades and handles any errors that occur during input.\n",
        "\n",
        "### Tasks\n",
        "\n",
        "1.   Create a dictionary of students and grades\n",
        "2.   Write a function to calculate the average grades\n",
        "3.   Implement error handling for invalid inputs\n",
        "4.   Call the main program\n",
        "\n",
        "\n",
        "\n",
        "\n",
        "\n",
        "\n"
      ],
      "metadata": {
        "id": "4JeN7NbAy_JT"
      }
    },
    {
      "cell_type": "markdown",
      "source": [
        "#### Create a dictionary of students and grades\n"
      ],
      "metadata": {
        "id": "LkIN5u9P3LaS"
      }
    },
    {
      "cell_type": "code",
      "source": [
        "# Create a dictionary\n",
        "def grades_data_set():\n",
        "    student_grades = {\"Alice\": 90, \"Bob\": 85, \"Charlie\": 100, \"Amad\": 100}\n",
        "    return student_grades"
      ],
      "metadata": {
        "id": "NfYvnkGO3BfR"
      },
      "execution_count": 2,
      "outputs": []
    },
    {
      "cell_type": "markdown",
      "source": [
        "#### Write a function to calculate the average grades\n"
      ],
      "metadata": {
        "id": "ms27mUBQ3qHy"
      }
    },
    {
      "cell_type": "code",
      "source": [
        "# Function to calculate the average grade with error handling\n",
        "def calculate_average(grades):\n",
        "    try:\n",
        "        if len(grades) == 0:\n",
        "            return 0\n",
        "        return sum(grades) / len(grades)\n",
        "    except TypeError:\n",
        "        print(\"Error: Grades list must contain numeric values only.\")\n",
        "        return None\n",
        "    except Exception as e:\n",
        "        print(f\"An unexpected error occurred: {e}\")\n",
        "        return None"
      ],
      "metadata": {
        "id": "z7pOn_Qv3sxE"
      },
      "execution_count": 3,
      "outputs": []
    },
    {
      "cell_type": "markdown",
      "source": [
        "#### Implement error handling for invalid inputs\n"
      ],
      "metadata": {
        "id": "dOy-uIDT3txo"
      }
    },
    {
      "cell_type": "code",
      "source": [
        "# prompt: Improve or optimise the error handling to be the most effcient\n",
        "# def calculate_average(grades):\n",
        "#     try:\n",
        "#         if len(grades) == 0:\n",
        "#             return 0\n",
        "#         return sum(grades) / len(grades)\n",
        "#     except TypeError:\n",
        "#         print(\"Error: Grades list must contain numeric values only.\")\n",
        "#         return None\n",
        "#     except Exception as e:\n",
        "#         print(f\"An unexpected error occurred: {e}\")\n",
        "#         return\n",
        "\n",
        "def calculate_average(grades):\n",
        "    try:\n",
        "        if not isinstance(grades, list):\n",
        "            raise TypeError(\"Grades must be a list\")\n",
        "        if not all(isinstance(grade, (int, float)) for grade in grades):\n",
        "            raise TypeError(\"Grades must be numeric values\")\n",
        "        if len(grades) == 0:\n",
        "            return 0\n",
        "        return sum(grades) / len(grades)\n",
        "    except TypeError as e:\n",
        "        print(f\"Error: {e}\")\n",
        "        return None\n",
        "    except Exception as e:\n",
        "        print(f\"An unexpected error occurred: {e}\")\n",
        "        return None\n"
      ],
      "metadata": {
        "id": "v2UlmkPm3yWS"
      },
      "execution_count": 10,
      "outputs": []
    },
    {
      "cell_type": "markdown",
      "source": [
        "#### Call the main program\n"
      ],
      "metadata": {
        "id": "Aaq-uw3N3zEE"
      }
    },
    {
      "cell_type": "code",
      "source": [
        "# Main program\n",
        "def main():\n",
        "    # Dictionary to store students and their grades\n",
        "    student_grades = grades_data_set()\n",
        "\n",
        "    # Extract the grades from the dictionary\n",
        "    grades = list(student_grades.values())\n",
        "    print(f\"Grades: {grades} and Count of {len(grades)}\")\n",
        "\n",
        "\n",
        "    # Calculate the average grade\n",
        "    average_grade = calculate_average(grades)\n",
        "\n",
        "    # {average_grade:.2f}  f-string's {} specifies that a floating-point number should be formatted to two decimal places.\n",
        "\n",
        "    print(f\"The average grade is: {average_grade:.2f}\")"
      ],
      "metadata": {
        "id": "unLgbFZu4diy"
      },
      "execution_count": 11,
      "outputs": []
    },
    {
      "cell_type": "code",
      "source": [
        "# Run the main program\n",
        "if __name__ == \"__main__\":\n",
        "    main()"
      ],
      "metadata": {
        "colab": {
          "base_uri": "https://localhost:8080/"
        },
        "id": "LWRvuz505H8C",
        "outputId": "9b5bebc8-80e6-4d5d-c64f-f55dfbaf4ea0"
      },
      "execution_count": 9,
      "outputs": [
        {
          "output_type": "stream",
          "name": "stdout",
          "text": [
            "Grades: [90, 85, 100, 100] and Count of 4\n",
            "The average grade is: 93.75\n"
          ]
        }
      ]
    },
    {
      "cell_type": "code",
      "source": [
        "# prompt: Explain all(isinstance(grade, (int, float)) for grade in grades) ... what python statement or syntax is being used\n",
        "\n",
        "# all(isinstance(grade, (int, float)) for grade in grades)\n",
        "\n",
        "# This line uses the `all` function and a generator expression to check if all elements in the `grades` list are either integers or floats.\n",
        "\n",
        "# Here's how it works:\n",
        "\n",
        "# 1. Generator Expression:\n",
        "\n",
        "# `(int, float)` is a tuple that specifies the acceptable types for each element in the `grades` list.\n",
        "\n",
        "# `grade in grades` iterates through each element in the `grades` list.\n",
        "\n",
        "# `isinstance(grade, (int, float))` checks if the current element `grade` is an instance of either `int` or `float`.\n",
        "\n",
        "# 2. all Function:\n",
        "\n",
        "# `all` takes a generator expression as an argument and returns `True` if all elements in the generator expression are `True`.\n",
        "\n",
        "# In this case, `all` returns `True` only if every element in the `grades` list is either an integer or a float.\n",
        "\n",
        "# This line ensures that the `calculate_average` function handles potential errors caused by non-numeric values in the `grades` list.\n"
      ],
      "metadata": {
        "id": "eUohZ_P8Bs06"
      },
      "execution_count": null,
      "outputs": []
    }
  ]
}